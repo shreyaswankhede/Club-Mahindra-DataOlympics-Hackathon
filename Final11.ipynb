{
  "nbformat": 4,
  "nbformat_minor": 0,
  "metadata": {
    "colab": {
      "name": "Final11.ipynb",
      "version": "0.3.2",
      "provenance": [],
      "collapsed_sections": []
    },
    "kernelspec": {
      "name": "python3",
      "display_name": "Python 3"
    },
    "accelerator": "GPU"
  },
  "cells": [
    {
      "cell_type": "code",
      "metadata": {
        "id": "qJx26fgDMxDZ",
        "colab_type": "code",
        "colab": {}
      },
      "source": [
        ""
      ],
      "execution_count": 0,
      "outputs": []
    },
    {
      "cell_type": "code",
      "metadata": {
        "id": "llpU4B0fKBza",
        "colab_type": "code",
        "outputId": "e7a134c2-5122-484e-9d6e-319046fe4f2b",
        "colab": {
          "base_uri": "https://localhost:8080/",
          "height": 35
        }
      },
      "source": [
        "from google.colab import drive\n",
        "drive.mount('/gdrive')"
      ],
      "execution_count": 97,
      "outputs": [
        {
          "output_type": "stream",
          "text": [
            "Drive already mounted at /gdrive; to attempt to forcibly remount, call drive.mount(\"/gdrive\", force_remount=True).\n"
          ],
          "name": "stdout"
        }
      ]
    },
    {
      "cell_type": "code",
      "metadata": {
        "id": "GybdKYqbLGL0",
        "colab_type": "code",
        "colab": {}
      },
      "source": [
        "import pandas as pd\n",
        "import numpy as np\n",
        "import matplotlib.pyplot as plt\n",
        "import seaborn"
      ],
      "execution_count": 0,
      "outputs": []
    },
    {
      "cell_type": "code",
      "metadata": {
        "id": "g35oSEfjLGXs",
        "colab_type": "code",
        "outputId": "bedfbb40-ab79-4019-b496-45e11ad31fc3",
        "colab": {
          "base_uri": "https://localhost:8080/",
          "height": 243
        }
      },
      "source": [
        "train=pd.read_csv(\"/gdrive/My Drive/Colab Notebooks/train_cm.csv\")\n",
        "test=pd.read_csv('/gdrive/My Drive/Colab Notebooks/test_cm.csv')\n",
        "train.head()\n"
      ],
      "execution_count": 99,
      "outputs": [
        {
          "output_type": "execute_result",
          "data": {
            "text/html": [
              "<div>\n",
              "<style scoped>\n",
              "    .dataframe tbody tr th:only-of-type {\n",
              "        vertical-align: middle;\n",
              "    }\n",
              "\n",
              "    .dataframe tbody tr th {\n",
              "        vertical-align: top;\n",
              "    }\n",
              "\n",
              "    .dataframe thead th {\n",
              "        text-align: right;\n",
              "    }\n",
              "</style>\n",
              "<table border=\"1\" class=\"dataframe\">\n",
              "  <thead>\n",
              "    <tr style=\"text-align: right;\">\n",
              "      <th></th>\n",
              "      <th>reservation_id</th>\n",
              "      <th>booking_date</th>\n",
              "      <th>checkin_date</th>\n",
              "      <th>checkout_date</th>\n",
              "      <th>channel_code</th>\n",
              "      <th>main_product_code</th>\n",
              "      <th>numberofadults</th>\n",
              "      <th>numberofchildren</th>\n",
              "      <th>persontravellingid</th>\n",
              "      <th>resort_region_code</th>\n",
              "      <th>...</th>\n",
              "      <th>state_code_residence</th>\n",
              "      <th>state_code_resort</th>\n",
              "      <th>total_pax</th>\n",
              "      <th>member_age_buckets</th>\n",
              "      <th>booking_type_code</th>\n",
              "      <th>memberid</th>\n",
              "      <th>cluster_code</th>\n",
              "      <th>reservationstatusid_code</th>\n",
              "      <th>resort_id</th>\n",
              "      <th>amount_spent_per_room_night_scaled</th>\n",
              "    </tr>\n",
              "  </thead>\n",
              "  <tbody>\n",
              "    <tr>\n",
              "      <th>0</th>\n",
              "      <td>07659f3758d8aee27f5a7e2887adeacb67021cb95ada1b...</td>\n",
              "      <td>05/04/18</td>\n",
              "      <td>05/04/18</td>\n",
              "      <td>06/04/18</td>\n",
              "      <td>3</td>\n",
              "      <td>1</td>\n",
              "      <td>2</td>\n",
              "      <td>0</td>\n",
              "      <td>46</td>\n",
              "      <td>3</td>\n",
              "      <td>...</td>\n",
              "      <td>7.0</td>\n",
              "      <td>3</td>\n",
              "      <td>3</td>\n",
              "      <td>F</td>\n",
              "      <td>1</td>\n",
              "      <td>3d1539e56495b6991f0a3ef5a61ca3d03ce4fff7380e9a...</td>\n",
              "      <td>F</td>\n",
              "      <td>C</td>\n",
              "      <td>4e07408562bedb8b60ce05c1decfe3ad16b72230967de0...</td>\n",
              "      <td>7.706428</td>\n",
              "    </tr>\n",
              "    <tr>\n",
              "      <th>1</th>\n",
              "      <td>03930f033646d073462b35d411616323597715ac4fc398...</td>\n",
              "      <td>23/01/15</td>\n",
              "      <td>11/04/15</td>\n",
              "      <td>16/04/15</td>\n",
              "      <td>1</td>\n",
              "      <td>1</td>\n",
              "      <td>2</td>\n",
              "      <td>0</td>\n",
              "      <td>46</td>\n",
              "      <td>3</td>\n",
              "      <td>...</td>\n",
              "      <td>7.0</td>\n",
              "      <td>5</td>\n",
              "      <td>2</td>\n",
              "      <td>F</td>\n",
              "      <td>1</td>\n",
              "      <td>3d1539e56495b6991f0a3ef5a61ca3d03ce4fff7380e9a...</td>\n",
              "      <td>F</td>\n",
              "      <td>A</td>\n",
              "      <td>39fa9ec190eee7b6f4dff1100d6343e10918d044c75eac...</td>\n",
              "      <td>6.662563</td>\n",
              "    </tr>\n",
              "    <tr>\n",
              "      <th>2</th>\n",
              "      <td>d145a32920e6587ad95bfe299d80c0affa268220535aaf...</td>\n",
              "      <td>28/01/15</td>\n",
              "      <td>01/02/15</td>\n",
              "      <td>05/02/15</td>\n",
              "      <td>1</td>\n",
              "      <td>1</td>\n",
              "      <td>2</td>\n",
              "      <td>0</td>\n",
              "      <td>47</td>\n",
              "      <td>1</td>\n",
              "      <td>...</td>\n",
              "      <td>7.0</td>\n",
              "      <td>1</td>\n",
              "      <td>2</td>\n",
              "      <td>F</td>\n",
              "      <td>1</td>\n",
              "      <td>3d1539e56495b6991f0a3ef5a61ca3d03ce4fff7380e9a...</td>\n",
              "      <td>E</td>\n",
              "      <td>A</td>\n",
              "      <td>535fa30d7e25dd8a49f1536779734ec8286108d115da50...</td>\n",
              "      <td>7.871602</td>\n",
              "    </tr>\n",
              "    <tr>\n",
              "      <th>3</th>\n",
              "      <td>cfd77f44811ed62f25a220b53324cdbafc662a4c9e5f04...</td>\n",
              "      <td>02/05/15</td>\n",
              "      <td>11/06/15</td>\n",
              "      <td>16/06/15</td>\n",
              "      <td>1</td>\n",
              "      <td>1</td>\n",
              "      <td>2</td>\n",
              "      <td>2</td>\n",
              "      <td>46</td>\n",
              "      <td>2</td>\n",
              "      <td>...</td>\n",
              "      <td>7.0</td>\n",
              "      <td>2</td>\n",
              "      <td>2</td>\n",
              "      <td>F</td>\n",
              "      <td>1</td>\n",
              "      <td>3d1539e56495b6991f0a3ef5a61ca3d03ce4fff7380e9a...</td>\n",
              "      <td>D</td>\n",
              "      <td>A</td>\n",
              "      <td>d4735e3a265e16eee03f59718b9b5d03019c07d8b6c51f...</td>\n",
              "      <td>5.344943</td>\n",
              "    </tr>\n",
              "    <tr>\n",
              "      <th>4</th>\n",
              "      <td>937cff9e4dcfc2459620153dfc8b9962ac22bea67dfb29...</td>\n",
              "      <td>02/09/15</td>\n",
              "      <td>14/12/15</td>\n",
              "      <td>19/12/15</td>\n",
              "      <td>1</td>\n",
              "      <td>1</td>\n",
              "      <td>2</td>\n",
              "      <td>0</td>\n",
              "      <td>46</td>\n",
              "      <td>2</td>\n",
              "      <td>...</td>\n",
              "      <td>7.0</td>\n",
              "      <td>2</td>\n",
              "      <td>2</td>\n",
              "      <td>F</td>\n",
              "      <td>1</td>\n",
              "      <td>3d1539e56495b6991f0a3ef5a61ca3d03ce4fff7380e9a...</td>\n",
              "      <td>D</td>\n",
              "      <td>A</td>\n",
              "      <td>d4735e3a265e16eee03f59718b9b5d03019c07d8b6c51f...</td>\n",
              "      <td>7.059346</td>\n",
              "    </tr>\n",
              "  </tbody>\n",
              "</table>\n",
              "<p>5 rows × 24 columns</p>\n",
              "</div>"
            ],
            "text/plain": [
              "                                      reservation_id booking_date  \\\n",
              "0  07659f3758d8aee27f5a7e2887adeacb67021cb95ada1b...     05/04/18   \n",
              "1  03930f033646d073462b35d411616323597715ac4fc398...     23/01/15   \n",
              "2  d145a32920e6587ad95bfe299d80c0affa268220535aaf...     28/01/15   \n",
              "3  cfd77f44811ed62f25a220b53324cdbafc662a4c9e5f04...     02/05/15   \n",
              "4  937cff9e4dcfc2459620153dfc8b9962ac22bea67dfb29...     02/09/15   \n",
              "\n",
              "  checkin_date checkout_date  channel_code  main_product_code  numberofadults  \\\n",
              "0     05/04/18      06/04/18             3                  1               2   \n",
              "1     11/04/15      16/04/15             1                  1               2   \n",
              "2     01/02/15      05/02/15             1                  1               2   \n",
              "3     11/06/15      16/06/15             1                  1               2   \n",
              "4     14/12/15      19/12/15             1                  1               2   \n",
              "\n",
              "   numberofchildren  persontravellingid  resort_region_code  ...  \\\n",
              "0                 0                  46                   3  ...   \n",
              "1                 0                  46                   3  ...   \n",
              "2                 0                  47                   1  ...   \n",
              "3                 2                  46                   2  ...   \n",
              "4                 0                  46                   2  ...   \n",
              "\n",
              "   state_code_residence  state_code_resort  total_pax  member_age_buckets  \\\n",
              "0                   7.0                  3          3                   F   \n",
              "1                   7.0                  5          2                   F   \n",
              "2                   7.0                  1          2                   F   \n",
              "3                   7.0                  2          2                   F   \n",
              "4                   7.0                  2          2                   F   \n",
              "\n",
              "   booking_type_code                                           memberid  \\\n",
              "0                  1  3d1539e56495b6991f0a3ef5a61ca3d03ce4fff7380e9a...   \n",
              "1                  1  3d1539e56495b6991f0a3ef5a61ca3d03ce4fff7380e9a...   \n",
              "2                  1  3d1539e56495b6991f0a3ef5a61ca3d03ce4fff7380e9a...   \n",
              "3                  1  3d1539e56495b6991f0a3ef5a61ca3d03ce4fff7380e9a...   \n",
              "4                  1  3d1539e56495b6991f0a3ef5a61ca3d03ce4fff7380e9a...   \n",
              "\n",
              "   cluster_code reservationstatusid_code  \\\n",
              "0             F                        C   \n",
              "1             F                        A   \n",
              "2             E                        A   \n",
              "3             D                        A   \n",
              "4             D                        A   \n",
              "\n",
              "                                           resort_id  \\\n",
              "0  4e07408562bedb8b60ce05c1decfe3ad16b72230967de0...   \n",
              "1  39fa9ec190eee7b6f4dff1100d6343e10918d044c75eac...   \n",
              "2  535fa30d7e25dd8a49f1536779734ec8286108d115da50...   \n",
              "3  d4735e3a265e16eee03f59718b9b5d03019c07d8b6c51f...   \n",
              "4  d4735e3a265e16eee03f59718b9b5d03019c07d8b6c51f...   \n",
              "\n",
              "  amount_spent_per_room_night_scaled  \n",
              "0                           7.706428  \n",
              "1                           6.662563  \n",
              "2                           7.871602  \n",
              "3                           5.344943  \n",
              "4                           7.059346  \n",
              "\n",
              "[5 rows x 24 columns]"
            ]
          },
          "metadata": {
            "tags": []
          },
          "execution_count": 99
        }
      ]
    },
    {
      "cell_type": "code",
      "metadata": {
        "id": "PVCFKaHNc8b3",
        "colab_type": "code",
        "outputId": "a20d4355-6cd1-4df5-c5d7-6a0f9e1b6639",
        "colab": {
          "base_uri": "https://localhost:8080/",
          "height": 243
        }
      },
      "source": [
        "test.head()"
      ],
      "execution_count": 100,
      "outputs": [
        {
          "output_type": "execute_result",
          "data": {
            "text/html": [
              "<div>\n",
              "<style scoped>\n",
              "    .dataframe tbody tr th:only-of-type {\n",
              "        vertical-align: middle;\n",
              "    }\n",
              "\n",
              "    .dataframe tbody tr th {\n",
              "        vertical-align: top;\n",
              "    }\n",
              "\n",
              "    .dataframe thead th {\n",
              "        text-align: right;\n",
              "    }\n",
              "</style>\n",
              "<table border=\"1\" class=\"dataframe\">\n",
              "  <thead>\n",
              "    <tr style=\"text-align: right;\">\n",
              "      <th></th>\n",
              "      <th>reservation_id</th>\n",
              "      <th>booking_date</th>\n",
              "      <th>checkin_date</th>\n",
              "      <th>checkout_date</th>\n",
              "      <th>channel_code</th>\n",
              "      <th>main_product_code</th>\n",
              "      <th>numberofadults</th>\n",
              "      <th>numberofchildren</th>\n",
              "      <th>persontravellingid</th>\n",
              "      <th>resort_region_code</th>\n",
              "      <th>...</th>\n",
              "      <th>season_holidayed_code</th>\n",
              "      <th>state_code_residence</th>\n",
              "      <th>state_code_resort</th>\n",
              "      <th>total_pax</th>\n",
              "      <th>member_age_buckets</th>\n",
              "      <th>booking_type_code</th>\n",
              "      <th>memberid</th>\n",
              "      <th>cluster_code</th>\n",
              "      <th>reservationstatusid_code</th>\n",
              "      <th>resort_id</th>\n",
              "    </tr>\n",
              "  </thead>\n",
              "  <tbody>\n",
              "    <tr>\n",
              "      <th>0</th>\n",
              "      <td>7dae1ce6bc8f69481328f2be5c4943077dad5598b5f66d...</td>\n",
              "      <td>05/04/18</td>\n",
              "      <td>05/04/18</td>\n",
              "      <td>06/04/18</td>\n",
              "      <td>3</td>\n",
              "      <td>2</td>\n",
              "      <td>2</td>\n",
              "      <td>0</td>\n",
              "      <td>45</td>\n",
              "      <td>3</td>\n",
              "      <td>...</td>\n",
              "      <td>2.0</td>\n",
              "      <td>2.0</td>\n",
              "      <td>3</td>\n",
              "      <td>3</td>\n",
              "      <td>H</td>\n",
              "      <td>1</td>\n",
              "      <td>2114944930dcc42ce5b9b50ae965cf8a9c04e46be63d84...</td>\n",
              "      <td>A</td>\n",
              "      <td>C</td>\n",
              "      <td>9f14025af0065b30e47e23ebb3b491d39ae8ed17d33739...</td>\n",
              "    </tr>\n",
              "    <tr>\n",
              "      <th>1</th>\n",
              "      <td>fe0d4e444e1818436c88f72f1cf800536c2f785e59baeb...</td>\n",
              "      <td>24/05/15</td>\n",
              "      <td>23/06/15</td>\n",
              "      <td>27/06/15</td>\n",
              "      <td>1</td>\n",
              "      <td>2</td>\n",
              "      <td>4</td>\n",
              "      <td>0</td>\n",
              "      <td>45</td>\n",
              "      <td>1</td>\n",
              "      <td>...</td>\n",
              "      <td>2.0</td>\n",
              "      <td>2.0</td>\n",
              "      <td>4</td>\n",
              "      <td>2</td>\n",
              "      <td>H</td>\n",
              "      <td>1</td>\n",
              "      <td>2114944930dcc42ce5b9b50ae965cf8a9c04e46be63d84...</td>\n",
              "      <td>F</td>\n",
              "      <td>A</td>\n",
              "      <td>e7f6c011776e8db7cd330b54174fd76f7d0216b612387a...</td>\n",
              "    </tr>\n",
              "    <tr>\n",
              "      <th>2</th>\n",
              "      <td>540bd4285ad8168e8388f84ee74a82cd4f97dc0a404d3e...</td>\n",
              "      <td>21/07/15</td>\n",
              "      <td>07/08/15</td>\n",
              "      <td>10/08/15</td>\n",
              "      <td>3</td>\n",
              "      <td>2</td>\n",
              "      <td>3</td>\n",
              "      <td>0</td>\n",
              "      <td>45</td>\n",
              "      <td>2</td>\n",
              "      <td>...</td>\n",
              "      <td>4.0</td>\n",
              "      <td>2.0</td>\n",
              "      <td>2</td>\n",
              "      <td>3</td>\n",
              "      <td>H</td>\n",
              "      <td>1</td>\n",
              "      <td>2114944930dcc42ce5b9b50ae965cf8a9c04e46be63d84...</td>\n",
              "      <td>D</td>\n",
              "      <td>A</td>\n",
              "      <td>d4735e3a265e16eee03f59718b9b5d03019c07d8b6c51f...</td>\n",
              "    </tr>\n",
              "    <tr>\n",
              "      <th>3</th>\n",
              "      <td>09593c907ae262e46f655b4db9e14f54a19eadcfdd2679...</td>\n",
              "      <td>31/07/15</td>\n",
              "      <td>22/10/15</td>\n",
              "      <td>25/10/15</td>\n",
              "      <td>1</td>\n",
              "      <td>2</td>\n",
              "      <td>3</td>\n",
              "      <td>0</td>\n",
              "      <td>45</td>\n",
              "      <td>1</td>\n",
              "      <td>...</td>\n",
              "      <td>2.0</td>\n",
              "      <td>2.0</td>\n",
              "      <td>6</td>\n",
              "      <td>3</td>\n",
              "      <td>H</td>\n",
              "      <td>1</td>\n",
              "      <td>2114944930dcc42ce5b9b50ae965cf8a9c04e46be63d84...</td>\n",
              "      <td>F</td>\n",
              "      <td>A</td>\n",
              "      <td>49d180ecf56132819571bf39d9b7b342522a2ac6d23c14...</td>\n",
              "    </tr>\n",
              "    <tr>\n",
              "      <th>4</th>\n",
              "      <td>f4c50caac68051faf37551d70bb17eebef2a20e2244cb1...</td>\n",
              "      <td>01/07/16</td>\n",
              "      <td>01/10/16</td>\n",
              "      <td>05/10/16</td>\n",
              "      <td>1</td>\n",
              "      <td>2</td>\n",
              "      <td>4</td>\n",
              "      <td>0</td>\n",
              "      <td>45</td>\n",
              "      <td>1</td>\n",
              "      <td>...</td>\n",
              "      <td>2.0</td>\n",
              "      <td>2.0</td>\n",
              "      <td>11</td>\n",
              "      <td>2</td>\n",
              "      <td>H</td>\n",
              "      <td>1</td>\n",
              "      <td>2114944930dcc42ce5b9b50ae965cf8a9c04e46be63d84...</td>\n",
              "      <td>F</td>\n",
              "      <td>A</td>\n",
              "      <td>e29c9c180c6279b0b02abd6a1801c7c04082cf486ec027...</td>\n",
              "    </tr>\n",
              "  </tbody>\n",
              "</table>\n",
              "<p>5 rows × 23 columns</p>\n",
              "</div>"
            ],
            "text/plain": [
              "                                      reservation_id booking_date  \\\n",
              "0  7dae1ce6bc8f69481328f2be5c4943077dad5598b5f66d...     05/04/18   \n",
              "1  fe0d4e444e1818436c88f72f1cf800536c2f785e59baeb...     24/05/15   \n",
              "2  540bd4285ad8168e8388f84ee74a82cd4f97dc0a404d3e...     21/07/15   \n",
              "3  09593c907ae262e46f655b4db9e14f54a19eadcfdd2679...     31/07/15   \n",
              "4  f4c50caac68051faf37551d70bb17eebef2a20e2244cb1...     01/07/16   \n",
              "\n",
              "  checkin_date checkout_date  channel_code  main_product_code  numberofadults  \\\n",
              "0     05/04/18      06/04/18             3                  2               2   \n",
              "1     23/06/15      27/06/15             1                  2               4   \n",
              "2     07/08/15      10/08/15             3                  2               3   \n",
              "3     22/10/15      25/10/15             1                  2               3   \n",
              "4     01/10/16      05/10/16             1                  2               4   \n",
              "\n",
              "   numberofchildren  persontravellingid  resort_region_code  ...  \\\n",
              "0                 0                  45                   3  ...   \n",
              "1                 0                  45                   1  ...   \n",
              "2                 0                  45                   2  ...   \n",
              "3                 0                  45                   1  ...   \n",
              "4                 0                  45                   1  ...   \n",
              "\n",
              "   season_holidayed_code  state_code_residence  state_code_resort  total_pax  \\\n",
              "0                    2.0                   2.0                  3          3   \n",
              "1                    2.0                   2.0                  4          2   \n",
              "2                    4.0                   2.0                  2          3   \n",
              "3                    2.0                   2.0                  6          3   \n",
              "4                    2.0                   2.0                 11          2   \n",
              "\n",
              "   member_age_buckets  booking_type_code  \\\n",
              "0                   H                  1   \n",
              "1                   H                  1   \n",
              "2                   H                  1   \n",
              "3                   H                  1   \n",
              "4                   H                  1   \n",
              "\n",
              "                                            memberid cluster_code  \\\n",
              "0  2114944930dcc42ce5b9b50ae965cf8a9c04e46be63d84...            A   \n",
              "1  2114944930dcc42ce5b9b50ae965cf8a9c04e46be63d84...            F   \n",
              "2  2114944930dcc42ce5b9b50ae965cf8a9c04e46be63d84...            D   \n",
              "3  2114944930dcc42ce5b9b50ae965cf8a9c04e46be63d84...            F   \n",
              "4  2114944930dcc42ce5b9b50ae965cf8a9c04e46be63d84...            F   \n",
              "\n",
              "   reservationstatusid_code                                          resort_id  \n",
              "0                         C  9f14025af0065b30e47e23ebb3b491d39ae8ed17d33739...  \n",
              "1                         A  e7f6c011776e8db7cd330b54174fd76f7d0216b612387a...  \n",
              "2                         A  d4735e3a265e16eee03f59718b9b5d03019c07d8b6c51f...  \n",
              "3                         A  49d180ecf56132819571bf39d9b7b342522a2ac6d23c14...  \n",
              "4                         A  e29c9c180c6279b0b02abd6a1801c7c04082cf486ec027...  \n",
              "\n",
              "[5 rows x 23 columns]"
            ]
          },
          "metadata": {
            "tags": []
          },
          "execution_count": 100
        }
      ]
    },
    {
      "cell_type": "code",
      "metadata": {
        "id": "SQGz_i-yc8ef",
        "colab_type": "code",
        "outputId": "5c95fd66-ec28-463f-8608-a2e31014c30c",
        "colab": {
          "base_uri": "https://localhost:8080/",
          "height": 461
        }
      },
      "source": [
        "print(train.isnull().sum())\n"
      ],
      "execution_count": 101,
      "outputs": [
        {
          "output_type": "stream",
          "text": [
            "reservation_id                           0\n",
            "booking_date                             0\n",
            "checkin_date                             0\n",
            "checkout_date                            0\n",
            "channel_code                             0\n",
            "main_product_code                        0\n",
            "numberofadults                           0\n",
            "numberofchildren                         0\n",
            "persontravellingid                       0\n",
            "resort_region_code                       0\n",
            "resort_type_code                         0\n",
            "room_type_booked_code                    0\n",
            "roomnights                               0\n",
            "season_holidayed_code                  114\n",
            "state_code_residence                  4764\n",
            "state_code_resort                        0\n",
            "total_pax                                0\n",
            "member_age_buckets                       0\n",
            "booking_type_code                        0\n",
            "memberid                                 0\n",
            "cluster_code                             0\n",
            "reservationstatusid_code                 0\n",
            "resort_id                                0\n",
            "amount_spent_per_room_night_scaled       0\n",
            "dtype: int64\n"
          ],
          "name": "stdout"
        }
      ]
    },
    {
      "cell_type": "code",
      "metadata": {
        "id": "_srzNv1Sc8gk",
        "colab_type": "code",
        "outputId": "2fa16874-ae21-458e-f4b4-ba92cda23604",
        "colab": {
          "base_uri": "https://localhost:8080/",
          "height": 444
        }
      },
      "source": [
        "print(test.isnull().sum())\n"
      ],
      "execution_count": 102,
      "outputs": [
        {
          "output_type": "stream",
          "text": [
            "reservation_id                 0\n",
            "booking_date                   0\n",
            "checkin_date                   0\n",
            "checkout_date                  0\n",
            "channel_code                   0\n",
            "main_product_code              0\n",
            "numberofadults                 0\n",
            "numberofchildren               0\n",
            "persontravellingid             0\n",
            "resort_region_code             0\n",
            "resort_type_code               0\n",
            "room_type_booked_code          0\n",
            "roomnights                     0\n",
            "season_holidayed_code         35\n",
            "state_code_residence        2260\n",
            "state_code_resort              0\n",
            "total_pax                      0\n",
            "member_age_buckets             0\n",
            "booking_type_code              0\n",
            "memberid                       0\n",
            "cluster_code                   0\n",
            "reservationstatusid_code       0\n",
            "resort_id                      0\n",
            "dtype: int64\n"
          ],
          "name": "stdout"
        }
      ]
    },
    {
      "cell_type": "code",
      "metadata": {
        "id": "MD19JLVZc8i9",
        "colab_type": "code",
        "outputId": "20bb2457-17b6-47aa-dbea-8614c383261a",
        "colab": {
          "base_uri": "https://localhost:8080/",
          "height": 106
        }
      },
      "source": [
        "train['season_holidayed_code'].value_counts()"
      ],
      "execution_count": 103,
      "outputs": [
        {
          "output_type": "execute_result",
          "data": {
            "text/plain": [
              "2.0    126771\n",
              "3.0    118187\n",
              "4.0     69387\n",
              "1.0     26965\n",
              "Name: season_holidayed_code, dtype: int64"
            ]
          },
          "metadata": {
            "tags": []
          },
          "execution_count": 103
        }
      ]
    },
    {
      "cell_type": "code",
      "metadata": {
        "id": "LPLo_x-Pc8lm",
        "colab_type": "code",
        "colab": {}
      },
      "source": [
        "train[\"season_holidayed_code\"].fillna(train[\"season_holidayed_code\"].mean(), inplace=True)\n",
        "test[\"season_holidayed_code\"].fillna(test[\"season_holidayed_code\"].mean(), inplace=True)\n"
      ],
      "execution_count": 0,
      "outputs": []
    },
    {
      "cell_type": "code",
      "metadata": {
        "id": "ZGdVEbrPWqi2",
        "colab_type": "code",
        "colab": {}
      },
      "source": [
        "#z1=print(round(train['state_code_residence'].mean(),))\n"
      ],
      "execution_count": 0,
      "outputs": []
    },
    {
      "cell_type": "code",
      "metadata": {
        "id": "pZcAuNZ8c8ok",
        "colab_type": "code",
        "colab": {}
      },
      "source": [
        "train[\"state_code_residence\"].fillna(round(train['state_code_residence'].mean(),), inplace=True)\n",
        "test[\"state_code_residence\"].fillna(round(test['state_code_residence'].mean(),), inplace=True)\n"
      ],
      "execution_count": 0,
      "outputs": []
    },
    {
      "cell_type": "markdown",
      "metadata": {
        "id": "86jgC0Zkx_8s",
        "colab_type": "text"
      },
      "source": [
        "# combine the data"
      ]
    },
    {
      "cell_type": "code",
      "metadata": {
        "id": "SZ96chMOx-9A",
        "colab_type": "code",
        "outputId": "cde48ca8-4177-43f2-d96b-568aa2fd9172",
        "colab": {
          "base_uri": "https://localhost:8080/",
          "height": 675
        }
      },
      "source": [
        "df=train.append(test,ignore_index=True)\n",
        "df.tail()\n",
        "df.info()"
      ],
      "execution_count": 106,
      "outputs": [
        {
          "output_type": "stream",
          "text": [
            "/usr/local/lib/python3.6/dist-packages/pandas/core/frame.py:6692: FutureWarning: Sorting because non-concatenation axis is not aligned. A future version\n",
            "of pandas will change to not sort by default.\n",
            "\n",
            "To accept the future behavior, pass 'sort=False'.\n",
            "\n",
            "To retain the current behavior and silence the warning, pass 'sort=True'.\n",
            "\n",
            "  sort=sort)\n"
          ],
          "name": "stderr"
        },
        {
          "output_type": "stream",
          "text": [
            "<class 'pandas.core.frame.DataFrame'>\n",
            "RangeIndex: 488189 entries, 0 to 488188\n",
            "Data columns (total 24 columns):\n",
            "amount_spent_per_room_night_scaled    341424 non-null float64\n",
            "booking_date                          488189 non-null object\n",
            "booking_type_code                     488189 non-null int64\n",
            "channel_code                          488189 non-null int64\n",
            "checkin_date                          488189 non-null object\n",
            "checkout_date                         488189 non-null object\n",
            "cluster_code                          488189 non-null object\n",
            "main_product_code                     488189 non-null int64\n",
            "member_age_buckets                    488189 non-null object\n",
            "memberid                              488189 non-null object\n",
            "numberofadults                        488189 non-null int64\n",
            "numberofchildren                      488189 non-null int64\n",
            "persontravellingid                    488189 non-null int64\n",
            "reservation_id                        488189 non-null object\n",
            "reservationstatusid_code              488189 non-null object\n",
            "resort_id                             488189 non-null object\n",
            "resort_region_code                    488189 non-null int64\n",
            "resort_type_code                      488189 non-null int64\n",
            "room_type_booked_code                 488189 non-null int64\n",
            "roomnights                            488189 non-null int64\n",
            "season_holidayed_code                 488189 non-null float64\n",
            "state_code_residence                  488189 non-null float64\n",
            "state_code_resort                     488189 non-null int64\n",
            "total_pax                             488189 non-null int64\n",
            "dtypes: float64(3), int64(12), object(9)\n",
            "memory usage: 89.4+ MB\n"
          ],
          "name": "stdout"
        }
      ]
    },
    {
      "cell_type": "code",
      "metadata": {
        "id": "p3DDO3qvg9Kh",
        "colab_type": "code",
        "outputId": "32972210-1475-41d1-aa3f-957c7c125df1",
        "colab": {
          "base_uri": "https://localhost:8080/",
          "height": 725
        }
      },
      "source": [
        "#corr=round(df.corr(),2)\n",
        "#seaborn.heatmap(corr,annot=False)"
      ],
      "execution_count": 107,
      "outputs": [
        {
          "output_type": "execute_result",
          "data": {
            "text/plain": [
              "<matplotlib.axes._subplots.AxesSubplot at 0x7f69a137f550>"
            ]
          },
          "metadata": {
            "tags": []
          },
          "execution_count": 107
        },
        {
          "output_type": "display_data",
          "data": {
            "image/png": "[encoded data removed]",
            "text/plain": [
              "<Figure size 842.4x595.44 with 2 Axes>"
            ]
          },
          "metadata": {
            "tags": []
          }
        }
      ]
    },
    {
      "cell_type": "code",
      "metadata": {
        "id": "_R2mcnkqg9Md",
        "colab_type": "code",
        "colab": {}
      },
      "source": [
        "#seaborn.barplot(x=df['PERFORM_CNS.SCORE.DESCRIPTION.SPLITTING'],y=df['loan_default'])"
      ],
      "execution_count": 0,
      "outputs": []
    },
    {
      "cell_type": "code",
      "metadata": {
        "id": "C9P1IY7nfC6I",
        "colab_type": "code",
        "colab": {}
      },
      "source": [
        "df['amount_spent_per_room_night_scaled'].fillna(0,inplace=True)"
      ],
      "execution_count": 0,
      "outputs": []
    },
    {
      "cell_type": "code",
      "metadata": {
        "id": "T4c0aSe-g9PR",
        "colab_type": "code",
        "outputId": "3ee84b2f-2b58-4ab8-c7af-014b679ea622",
        "colab": {
          "base_uri": "https://localhost:8080/",
          "height": 141
        }
      },
      "source": [
        "#df['season_holidayed_code'].value_counts()"
      ],
      "execution_count": 110,
      "outputs": [
        {
          "output_type": "execute_result",
          "data": {
            "text/plain": [
              "2.000000    180864\n",
              "3.000000    169640\n",
              "4.000000     99276\n",
              "1.000000     38260\n",
              "2.673862       114\n",
              "2.681088        35\n",
              "Name: season_holidayed_code, dtype: int64"
            ]
          },
          "metadata": {
            "tags": []
          },
          "execution_count": 110
        }
      ]
    },
    {
      "cell_type": "markdown",
      "metadata": {
        "id": "M0JhHEtl2ysQ",
        "colab_type": "text"
      },
      "source": [
        "# calculating duration days"
      ]
    },
    {
      "cell_type": "code",
      "metadata": {
        "id": "4961Uu7n2yQM",
        "colab_type": "code",
        "colab": {}
      },
      "source": [
        ""
      ],
      "execution_count": 0,
      "outputs": []
    },
    {
      "cell_type": "code",
      "metadata": {
        "id": "6mhCgVau0G6b",
        "colab_type": "code",
        "colab": {
          "base_uri": "https://localhost:8080/",
          "height": 35
        },
        "outputId": "f3867179-01a3-4cb2-bece-53c15ca5b855"
      },
      "source": [
        "'''from datetime import datetime'''\n"
      ],
      "execution_count": 111,
      "outputs": [
        {
          "output_type": "execute_result",
          "data": {
            "text/plain": [
              "'from datetime import datetime'"
            ]
          },
          "metadata": {
            "tags": []
          },
          "execution_count": 111
        }
      ]
    },
    {
      "cell_type": "code",
      "metadata": {
        "id": "bkjKJC2V0G3m",
        "colab_type": "code",
        "colab": {
          "base_uri": "https://localhost:8080/",
          "height": 55
        },
        "outputId": "dd46fe3a-bf00-48aa-93b1-2eb5a5e6ac7b"
      },
      "source": [
        "'''duration_list=[]\n",
        "date_format = \"%d/%m/%y\"\n",
        "for i in range(len(df['checkout_date'])):\n",
        "    duration = datetime.strptime(df['checkout_date'].iloc[i], date_format) - datetime.strptime(df['checkin_date'].iloc[i], date_format)\n",
        "    duration_list.append(duration.days)'''\n",
        "        "
      ],
      "execution_count": 112,
      "outputs": [
        {
          "output_type": "execute_result",
          "data": {
            "text/plain": [
              "'duration_list=[]\\ndate_format = \"%d/%m/%y\"\\nfor i in range(len(df[\\'checkout_date\\'])):\\n    duration = datetime.strptime(df[\\'checkout_date\\'].iloc[i], date_format) - datetime.strptime(df[\\'checkin_date\\'].iloc[i], date_format)\\n    duration_list.append(duration.days)'"
            ]
          },
          "metadata": {
            "tags": []
          },
          "execution_count": 112
        }
      ]
    },
    {
      "cell_type": "code",
      "metadata": {
        "id": "2qCY9dNo2c4X",
        "colab_type": "code",
        "colab": {
          "base_uri": "https://localhost:8080/",
          "height": 35
        },
        "outputId": "84496443-f000-44fd-9c1c-56ce23f17b44"
      },
      "source": [
        "'''df['duration_days']=duration_list''' \n"
      ],
      "execution_count": 113,
      "outputs": [
        {
          "output_type": "execute_result",
          "data": {
            "text/plain": [
              "\"df['duration_days']=duration_list\""
            ]
          },
          "metadata": {
            "tags": []
          },
          "execution_count": 113
        }
      ]
    },
    {
      "cell_type": "code",
      "metadata": {
        "id": "fFwLrWTn0G1O",
        "colab_type": "code",
        "outputId": "0dd58b70-6f14-4e53-f2d6-51f182a71d97",
        "colab": {
          "base_uri": "https://localhost:8080/",
          "height": 243
        }
      },
      "source": [
        "df.head()\n"
      ],
      "execution_count": 114,
      "outputs": [
        {
          "output_type": "execute_result",
          "data": {
            "text/html": [
              "<div>\n",
              "<style scoped>\n",
              "    .dataframe tbody tr th:only-of-type {\n",
              "        vertical-align: middle;\n",
              "    }\n",
              "\n",
              "    .dataframe tbody tr th {\n",
              "        vertical-align: top;\n",
              "    }\n",
              "\n",
              "    .dataframe thead th {\n",
              "        text-align: right;\n",
              "    }\n",
              "</style>\n",
              "<table border=\"1\" class=\"dataframe\">\n",
              "  <thead>\n",
              "    <tr style=\"text-align: right;\">\n",
              "      <th></th>\n",
              "      <th>amount_spent_per_room_night_scaled</th>\n",
              "      <th>booking_date</th>\n",
              "      <th>booking_type_code</th>\n",
              "      <th>channel_code</th>\n",
              "      <th>checkin_date</th>\n",
              "      <th>checkout_date</th>\n",
              "      <th>cluster_code</th>\n",
              "      <th>main_product_code</th>\n",
              "      <th>member_age_buckets</th>\n",
              "      <th>memberid</th>\n",
              "      <th>...</th>\n",
              "      <th>reservationstatusid_code</th>\n",
              "      <th>resort_id</th>\n",
              "      <th>resort_region_code</th>\n",
              "      <th>resort_type_code</th>\n",
              "      <th>room_type_booked_code</th>\n",
              "      <th>roomnights</th>\n",
              "      <th>season_holidayed_code</th>\n",
              "      <th>state_code_residence</th>\n",
              "      <th>state_code_resort</th>\n",
              "      <th>total_pax</th>\n",
              "    </tr>\n",
              "  </thead>\n",
              "  <tbody>\n",
              "    <tr>\n",
              "      <th>0</th>\n",
              "      <td>7.706428</td>\n",
              "      <td>05/04/18</td>\n",
              "      <td>1</td>\n",
              "      <td>3</td>\n",
              "      <td>05/04/18</td>\n",
              "      <td>06/04/18</td>\n",
              "      <td>F</td>\n",
              "      <td>1</td>\n",
              "      <td>F</td>\n",
              "      <td>3d1539e56495b6991f0a3ef5a61ca3d03ce4fff7380e9a...</td>\n",
              "      <td>...</td>\n",
              "      <td>C</td>\n",
              "      <td>4e07408562bedb8b60ce05c1decfe3ad16b72230967de0...</td>\n",
              "      <td>3</td>\n",
              "      <td>3</td>\n",
              "      <td>3</td>\n",
              "      <td>1</td>\n",
              "      <td>2.0</td>\n",
              "      <td>7.0</td>\n",
              "      <td>3</td>\n",
              "      <td>3</td>\n",
              "    </tr>\n",
              "    <tr>\n",
              "      <th>1</th>\n",
              "      <td>6.662563</td>\n",
              "      <td>23/01/15</td>\n",
              "      <td>1</td>\n",
              "      <td>1</td>\n",
              "      <td>11/04/15</td>\n",
              "      <td>16/04/15</td>\n",
              "      <td>F</td>\n",
              "      <td>1</td>\n",
              "      <td>F</td>\n",
              "      <td>3d1539e56495b6991f0a3ef5a61ca3d03ce4fff7380e9a...</td>\n",
              "      <td>...</td>\n",
              "      <td>A</td>\n",
              "      <td>39fa9ec190eee7b6f4dff1100d6343e10918d044c75eac...</td>\n",
              "      <td>3</td>\n",
              "      <td>3</td>\n",
              "      <td>4</td>\n",
              "      <td>5</td>\n",
              "      <td>2.0</td>\n",
              "      <td>7.0</td>\n",
              "      <td>5</td>\n",
              "      <td>2</td>\n",
              "    </tr>\n",
              "    <tr>\n",
              "      <th>2</th>\n",
              "      <td>7.871602</td>\n",
              "      <td>28/01/15</td>\n",
              "      <td>1</td>\n",
              "      <td>1</td>\n",
              "      <td>01/02/15</td>\n",
              "      <td>05/02/15</td>\n",
              "      <td>E</td>\n",
              "      <td>1</td>\n",
              "      <td>F</td>\n",
              "      <td>3d1539e56495b6991f0a3ef5a61ca3d03ce4fff7380e9a...</td>\n",
              "      <td>...</td>\n",
              "      <td>A</td>\n",
              "      <td>535fa30d7e25dd8a49f1536779734ec8286108d115da50...</td>\n",
              "      <td>1</td>\n",
              "      <td>5</td>\n",
              "      <td>4</td>\n",
              "      <td>4</td>\n",
              "      <td>2.0</td>\n",
              "      <td>7.0</td>\n",
              "      <td>1</td>\n",
              "      <td>2</td>\n",
              "    </tr>\n",
              "    <tr>\n",
              "      <th>3</th>\n",
              "      <td>5.344943</td>\n",
              "      <td>02/05/15</td>\n",
              "      <td>1</td>\n",
              "      <td>1</td>\n",
              "      <td>11/06/15</td>\n",
              "      <td>16/06/15</td>\n",
              "      <td>D</td>\n",
              "      <td>1</td>\n",
              "      <td>F</td>\n",
              "      <td>3d1539e56495b6991f0a3ef5a61ca3d03ce4fff7380e9a...</td>\n",
              "      <td>...</td>\n",
              "      <td>A</td>\n",
              "      <td>d4735e3a265e16eee03f59718b9b5d03019c07d8b6c51f...</td>\n",
              "      <td>2</td>\n",
              "      <td>2</td>\n",
              "      <td>3</td>\n",
              "      <td>5</td>\n",
              "      <td>2.0</td>\n",
              "      <td>7.0</td>\n",
              "      <td>2</td>\n",
              "      <td>2</td>\n",
              "    </tr>\n",
              "    <tr>\n",
              "      <th>4</th>\n",
              "      <td>7.059346</td>\n",
              "      <td>02/09/15</td>\n",
              "      <td>1</td>\n",
              "      <td>1</td>\n",
              "      <td>14/12/15</td>\n",
              "      <td>19/12/15</td>\n",
              "      <td>D</td>\n",
              "      <td>1</td>\n",
              "      <td>F</td>\n",
              "      <td>3d1539e56495b6991f0a3ef5a61ca3d03ce4fff7380e9a...</td>\n",
              "      <td>...</td>\n",
              "      <td>A</td>\n",
              "      <td>d4735e3a265e16eee03f59718b9b5d03019c07d8b6c51f...</td>\n",
              "      <td>2</td>\n",
              "      <td>2</td>\n",
              "      <td>4</td>\n",
              "      <td>5</td>\n",
              "      <td>2.0</td>\n",
              "      <td>7.0</td>\n",
              "      <td>2</td>\n",
              "      <td>2</td>\n",
              "    </tr>\n",
              "  </tbody>\n",
              "</table>\n",
              "<p>5 rows × 24 columns</p>\n",
              "</div>"
            ],
            "text/plain": [
              "   amount_spent_per_room_night_scaled booking_date  booking_type_code  \\\n",
              "0                            7.706428     05/04/18                  1   \n",
              "1                            6.662563     23/01/15                  1   \n",
              "2                            7.871602     28/01/15                  1   \n",
              "3                            5.344943     02/05/15                  1   \n",
              "4                            7.059346     02/09/15                  1   \n",
              "\n",
              "   channel_code checkin_date checkout_date cluster_code  main_product_code  \\\n",
              "0             3     05/04/18      06/04/18            F                  1   \n",
              "1             1     11/04/15      16/04/15            F                  1   \n",
              "2             1     01/02/15      05/02/15            E                  1   \n",
              "3             1     11/06/15      16/06/15            D                  1   \n",
              "4             1     14/12/15      19/12/15            D                  1   \n",
              "\n",
              "  member_age_buckets                                           memberid  ...  \\\n",
              "0                  F  3d1539e56495b6991f0a3ef5a61ca3d03ce4fff7380e9a...  ...   \n",
              "1                  F  3d1539e56495b6991f0a3ef5a61ca3d03ce4fff7380e9a...  ...   \n",
              "2                  F  3d1539e56495b6991f0a3ef5a61ca3d03ce4fff7380e9a...  ...   \n",
              "3                  F  3d1539e56495b6991f0a3ef5a61ca3d03ce4fff7380e9a...  ...   \n",
              "4                  F  3d1539e56495b6991f0a3ef5a61ca3d03ce4fff7380e9a...  ...   \n",
              "\n",
              "   reservationstatusid_code  \\\n",
              "0                         C   \n",
              "1                         A   \n",
              "2                         A   \n",
              "3                         A   \n",
              "4                         A   \n",
              "\n",
              "                                           resort_id  resort_region_code  \\\n",
              "0  4e07408562bedb8b60ce05c1decfe3ad16b72230967de0...                   3   \n",
              "1  39fa9ec190eee7b6f4dff1100d6343e10918d044c75eac...                   3   \n",
              "2  535fa30d7e25dd8a49f1536779734ec8286108d115da50...                   1   \n",
              "3  d4735e3a265e16eee03f59718b9b5d03019c07d8b6c51f...                   2   \n",
              "4  d4735e3a265e16eee03f59718b9b5d03019c07d8b6c51f...                   2   \n",
              "\n",
              "  resort_type_code room_type_booked_code roomnights  season_holidayed_code  \\\n",
              "0                3                     3          1                    2.0   \n",
              "1                3                     4          5                    2.0   \n",
              "2                5                     4          4                    2.0   \n",
              "3                2                     3          5                    2.0   \n",
              "4                2                     4          5                    2.0   \n",
              "\n",
              "   state_code_residence  state_code_resort  total_pax  \n",
              "0                   7.0                  3          3  \n",
              "1                   7.0                  5          2  \n",
              "2                   7.0                  1          2  \n",
              "3                   7.0                  2          2  \n",
              "4                   7.0                  2          2  \n",
              "\n",
              "[5 rows x 24 columns]"
            ]
          },
          "metadata": {
            "tags": []
          },
          "execution_count": 114
        }
      ]
    },
    {
      "cell_type": "code",
      "metadata": {
        "id": "ED8DgTS_5g0m",
        "colab_type": "code",
        "colab": {}
      },
      "source": [
        "#seaborn.boxplot(x=df['duration_days'])"
      ],
      "execution_count": 0,
      "outputs": []
    },
    {
      "cell_type": "code",
      "metadata": {
        "id": "w2WoSZjC5gaU",
        "colab_type": "code",
        "colab": {}
      },
      "source": [
        "#iqr=df['duration_days'].quantile(0.75)-df['duration_days'].quantile(0.25)\n",
        "#lb = df['duration_days'].quantile(0.25) -(1.5 * iqr)   # seting upper , lower bound\n",
        "#ub = df['duration_days'].quantile(0.75) +(1.5 * iqr) \n",
        "#df= df.loc[(df['duration_days'] > lb) & (df['duration_days'] < ub)]\n"
      ],
      "execution_count": 0,
      "outputs": []
    },
    {
      "cell_type": "code",
      "metadata": {
        "id": "WomZoVUC8j0b",
        "colab_type": "code",
        "outputId": "f06efa5d-8af3-464b-afc8-926b37b5d9e7",
        "colab": {
          "base_uri": "https://localhost:8080/",
          "height": 540
        }
      },
      "source": [
        "#seaborn.boxplot(x=df['numberofadults'])"
      ],
      "execution_count": 116,
      "outputs": [
        {
          "output_type": "execute_result",
          "data": {
            "text/plain": [
              "<matplotlib.axes._subplots.AxesSubplot at 0x7f699c4e6ef0>"
            ]
          },
          "metadata": {
            "tags": []
          },
          "execution_count": 116
        },
        {
          "output_type": "display_data",
          "data": {
            "image/png": "[encoded data removed]",
            "text/plain": [
              "<Figure size 842.4x595.44 with 1 Axes>"
            ]
          },
          "metadata": {
            "tags": []
          }
        }
      ]
    },
    {
      "cell_type": "code",
      "metadata": {
        "id": "_rcoaKaB8jxU",
        "colab_type": "code",
        "outputId": "3192c795-f91f-4d56-c995-023092f74fdc",
        "colab": {
          "base_uri": "https://localhost:8080/",
          "height": 540
        }
      },
      "source": [
        "#seaborn.boxplot(x=df['roomnights'])"
      ],
      "execution_count": 117,
      "outputs": [
        {
          "output_type": "execute_result",
          "data": {
            "text/plain": [
              "<matplotlib.axes._subplots.AxesSubplot at 0x7f699c474780>"
            ]
          },
          "metadata": {
            "tags": []
          },
          "execution_count": 117
        },
        {
          "output_type": "display_data",
          "data": {
            "image/png": "[encoded data removed]",
            "text/plain": [
              "<Figure size 842.4x595.44 with 1 Axes>"
            ]
          },
          "metadata": {
            "tags": []
          }
        }
      ]
    },
    {
      "cell_type": "code",
      "metadata": {
        "colab_type": "code",
        "id": "N5FTxj7UbpXL",
        "colab": {}
      },
      "source": [
        "#df = df[df['roomnights'] > 0]\n"
      ],
      "execution_count": 0,
      "outputs": []
    },
    {
      "cell_type": "code",
      "metadata": {
        "id": "6Amv6_Li9BBo",
        "colab_type": "code",
        "colab": {}
      },
      "source": [
        "#df = df[df['roomnights'] < 40]\n"
      ],
      "execution_count": 0,
      "outputs": []
    },
    {
      "cell_type": "markdown",
      "metadata": {
        "id": "vVM6SL3B-Gl0",
        "colab_type": "text"
      },
      "source": [
        "# plots"
      ]
    },
    {
      "cell_type": "code",
      "metadata": {
        "id": "4zA0BiG5-GXO",
        "colab_type": "code",
        "outputId": "37a3fd4a-59cf-4a10-b47d-a6f4e615656d",
        "colab": {
          "base_uri": "https://localhost:8080/",
          "height": 540
        }
      },
      "source": [
        "#seaborn.set(rc={'figure.figsize':(11.7,8.27)})\n",
        "\n",
        "#seaborn.barplot(x=df['roomnights'],y=df['amount_spent_per_room_night_scaled'])"
      ],
      "execution_count": 118,
      "outputs": [
        {
          "output_type": "execute_result",
          "data": {
            "text/plain": [
              "<matplotlib.axes._subplots.AxesSubplot at 0x7f699c3ddc88>"
            ]
          },
          "metadata": {
            "tags": []
          },
          "execution_count": 118
        },
        {
          "output_type": "display_data",
          "data": {
            "image/png": "[encoded data removed]",
            "text/plain": [
              "<Figure size 842.4x595.44 with 1 Axes>"
            ]
          },
          "metadata": {
            "tags": []
          }
        }
      ]
    },
    {
      "cell_type": "code",
      "metadata": {
        "id": "cPF-cf7L-GUp",
        "colab_type": "code",
        "outputId": "c7a0e8eb-22c6-4f43-bfa6-e9b0cde84d8f",
        "colab": {
          "base_uri": "https://localhost:8080/",
          "height": 540
        }
      },
      "source": [
        "#seaborn.barplot(x=df['numberofadults'],y=df['amount_spent_per_room_night_scaled'])"
      ],
      "execution_count": 119,
      "outputs": [
        {
          "output_type": "execute_result",
          "data": {
            "text/plain": [
              "<matplotlib.axes._subplots.AxesSubplot at 0x7f699c257630>"
            ]
          },
          "metadata": {
            "tags": []
          },
          "execution_count": 119
        },
        {
          "output_type": "display_data",
          "data": {
            "image/png": "[encoded data removed]",
            "text/plain": [
              "<Figure size 842.4x595.44 with 1 Axes>"
            ]
          },
          "metadata": {
            "tags": []
          }
        }
      ]
    },
    {
      "cell_type": "code",
      "metadata": {
        "id": "S8cftazg-GSZ",
        "colab_type": "code",
        "outputId": "f1adcc00-267f-4b70-a2cb-6490ff7b491f",
        "colab": {
          "base_uri": "https://localhost:8080/",
          "height": 550
        }
      },
      "source": [
        "#df['numberofadults'].value_counts()"
      ],
      "execution_count": 120,
      "outputs": [
        {
          "output_type": "execute_result",
          "data": {
            "text/plain": [
              "2     213460\n",
              "4     120898\n",
              "3      90478\n",
              "6      28695\n",
              "5      14179\n",
              "8       7394\n",
              "7       3779\n",
              "9       2042\n",
              "1       1893\n",
              "10      1724\n",
              "12      1448\n",
              "11       477\n",
              "16       425\n",
              "14       328\n",
              "15       285\n",
              "13       163\n",
              "24       104\n",
              "20       103\n",
              "18        95\n",
              "0         40\n",
              "30        27\n",
              "22        26\n",
              "17        25\n",
              "21        24\n",
              "19        23\n",
              "32        22\n",
              "25        12\n",
              "23        10\n",
              "29        10\n",
              "Name: numberofadults, dtype: int64"
            ]
          },
          "metadata": {
            "tags": []
          },
          "execution_count": 120
        }
      ]
    },
    {
      "cell_type": "code",
      "metadata": {
        "id": "QxpbABbk9A-3",
        "colab_type": "code",
        "colab": {}
      },
      "source": [
        "#df['duration_days'].value_counts()\n",
        "#df = df[df['duration_days']<10]\n",
        "#seaborn.scatterplot(x=df['duration_days'],y=df['amount_spent_per_room_night_scaled']) \n"
      ],
      "execution_count": 0,
      "outputs": []
    },
    {
      "cell_type": "code",
      "metadata": {
        "id": "tzZqMhRR5gVo",
        "colab_type": "code",
        "outputId": "da5e2a1b-072e-41e0-e265-c12e457f9d45",
        "colab": {
          "base_uri": "https://localhost:8080/",
          "height": 888
        }
      },
      "source": [
        "#df['roomnights'].value_counts()\n"
      ],
      "execution_count": 121,
      "outputs": [
        {
          "output_type": "execute_result",
          "data": {
            "text/plain": [
              " 3     134548\n",
              " 2     121780\n",
              " 4      84043\n",
              " 6      52723\n",
              " 1      36861\n",
              " 5      17537\n",
              " 8      15314\n",
              " 9       7309\n",
              " 12      4998\n",
              " 10      4156\n",
              " 7       4118\n",
              " 15      1089\n",
              " 16       814\n",
              " 14       734\n",
              " 11       442\n",
              " 18       436\n",
              " 20       325\n",
              " 13       171\n",
              " 21       145\n",
              " 24       137\n",
              " 17        85\n",
              " 30        78\n",
              " 28        52\n",
              " 19        46\n",
              " 27        37\n",
              " 25        28\n",
              " 22        26\n",
              " 23        22\n",
              " 26        22\n",
              " 32        13\n",
              " 36        13\n",
              " 31        12\n",
              " 33        11\n",
              " 35         9\n",
              " 48         9\n",
              " 39         7\n",
              " 44         6\n",
              " 47         6\n",
              " 29         5\n",
              " 34         5\n",
              " 37         5\n",
              " 42         4\n",
              " 0          2\n",
              " 40         2\n",
              " 80         1\n",
              " 41         1\n",
              " 60         1\n",
              "-45         1\n",
              "Name: roomnights, dtype: int64"
            ]
          },
          "metadata": {
            "tags": []
          },
          "execution_count": 121
        }
      ]
    },
    {
      "cell_type": "code",
      "metadata": {
        "id": "Mxs6DdK15gTU",
        "colab_type": "code",
        "colab": {}
      },
      "source": [
        "#df = df[df['roomnights'] < 25]\n"
      ],
      "execution_count": 0,
      "outputs": []
    },
    {
      "cell_type": "code",
      "metadata": {
        "id": "ZAre1XHnCLH-",
        "colab_type": "code",
        "colab": {}
      },
      "source": [
        "#df['numberofchildren'].value_counts()\n",
        "#df = df[df['numberofchildren'] <= 7]\n"
      ],
      "execution_count": 0,
      "outputs": []
    },
    {
      "cell_type": "code",
      "metadata": {
        "id": "AQ_voHa1soQw",
        "colab_type": "code",
        "colab": {}
      },
      "source": [
        "##\n",
        "df.drop(['memberid','resort_id','persontravellingid','reservation_id','booking_date','state_code_residence','booking_type_code','reservationstatusid_code','cluster_code'],axis=1,inplace=True)\n",
        "#df.drop([''],axis=1,inplace=True)"
      ],
      "execution_count": 0,
      "outputs": []
    },
    {
      "cell_type": "code",
      "metadata": {
        "id": "sfsx7ktSCLE_",
        "colab_type": "code",
        "outputId": "e3a9012f-e028-47b6-931a-4dc30b0aa627",
        "colab": {
          "base_uri": "https://localhost:8080/",
          "height": 372
        }
      },
      "source": [
        "#dftrain=df[df['amount_spent_per_room_night_scaled'].isnull()!=True]\n",
        "#dftest=df[df['amount_spent_per_room_night_scaled'].isnull()==True]\n",
        "#dftrain.head()\n",
        "df.info()"
      ],
      "execution_count": 123,
      "outputs": [
        {
          "output_type": "stream",
          "text": [
            "<class 'pandas.core.frame.DataFrame'>\n",
            "RangeIndex: 488189 entries, 0 to 488188\n",
            "Data columns (total 15 columns):\n",
            "amount_spent_per_room_night_scaled    488189 non-null float64\n",
            "channel_code                          488189 non-null int64\n",
            "checkin_date                          488189 non-null object\n",
            "checkout_date                         488189 non-null object\n",
            "main_product_code                     488189 non-null int64\n",
            "member_age_buckets                    488189 non-null object\n",
            "numberofadults                        488189 non-null int64\n",
            "numberofchildren                      488189 non-null int64\n",
            "resort_region_code                    488189 non-null int64\n",
            "resort_type_code                      488189 non-null int64\n",
            "room_type_booked_code                 488189 non-null int64\n",
            "roomnights                            488189 non-null int64\n",
            "season_holidayed_code                 488189 non-null float64\n",
            "state_code_resort                     488189 non-null int64\n",
            "total_pax                             488189 non-null int64\n",
            "dtypes: float64(2), int64(10), object(3)\n",
            "memory usage: 55.9+ MB\n"
          ],
          "name": "stdout"
        }
      ]
    },
    {
      "cell_type": "markdown",
      "metadata": {
        "id": "UTkn8k-mnAEw",
        "colab_type": "text"
      },
      "source": [
        "# Generate duration days column"
      ]
    },
    {
      "cell_type": "code",
      "metadata": {
        "id": "HjfhspvxrbCt",
        "colab_type": "code",
        "colab": {}
      },
      "source": [
        "from datetime import datetime\n"
      ],
      "execution_count": 0,
      "outputs": []
    },
    {
      "cell_type": "code",
      "metadata": {
        "id": "f_WJxZvXm_0_",
        "colab_type": "code",
        "colab": {}
      },
      "source": [
        "duration_list=[]\n",
        "date_format = \"%d/%m/%y\"\n",
        "for i in range(len(train['checkout_date'])):\n",
        "    duration = datetime.strptime(train['checkout_date'].iloc[i], date_format) - datetime.strptime(train['checkin_date'].iloc[i], date_format)\n",
        "    duration_list.append(duration.days)\n",
        "        "
      ],
      "execution_count": 0,
      "outputs": []
    },
    {
      "cell_type": "code",
      "metadata": {
        "id": "_xpM7CrZm_o6",
        "colab_type": "code",
        "colab": {}
      },
      "source": [
        "train['duration_days']=duration_list    \n"
      ],
      "execution_count": 0,
      "outputs": []
    },
    {
      "cell_type": "code",
      "metadata": {
        "id": "0TtNqWxnm_Rd",
        "colab_type": "code",
        "colab": {}
      },
      "source": [
        "train"
      ],
      "execution_count": 0,
      "outputs": []
    },
    {
      "cell_type": "code",
      "metadata": {
        "id": "BAAEumqHm-5w",
        "colab_type": "code",
        "colab": {}
      },
      "source": [
        "duration_list=[]\n",
        "date_format = \"%d/%m/%y\"\n",
        "for i in range(len(test['checkout_date'])):\n",
        "    duration = datetime.strptime(test['checkout_date'].iloc[i], date_format) - datetime.strptime(test['checkin_date'].iloc[i], date_format)\n",
        "    duration_list.append(duration.days)\n",
        "        "
      ],
      "execution_count": 0,
      "outputs": []
    },
    {
      "cell_type": "code",
      "metadata": {
        "id": "i3AhdvTIvj27",
        "colab_type": "code",
        "colab": {}
      },
      "source": [
        "test['duration_days']=duration_list    \n"
      ],
      "execution_count": 0,
      "outputs": []
    },
    {
      "cell_type": "code",
      "metadata": {
        "id": "itH43pBbvjzz",
        "colab_type": "code",
        "colab": {}
      },
      "source": [
        "test"
      ],
      "execution_count": 0,
      "outputs": []
    },
    {
      "cell_type": "markdown",
      "metadata": {
        "id": "6_jAAG-0dUsb",
        "colab_type": "text"
      },
      "source": [
        "# DROP ID'S COLUMNS FROM TRAIN AND TEST SET"
      ]
    },
    {
      "cell_type": "code",
      "metadata": {
        "id": "UWQSXse5sjcQ",
        "colab_type": "code",
        "colab": {}
      },
      "source": [
        "train.drop(['memberid','resort_id','persontravellingid','checkin_date','checkout_date','booking_date','state_code_residence','booking_type_code','reservationstatusid_code','cluster_code'],axis=1,inplace=True)\n"
      ],
      "execution_count": 0,
      "outputs": []
    },
    {
      "cell_type": "code",
      "metadata": {
        "id": "WZ_o5UIFdh_P",
        "colab_type": "code",
        "colab": {}
      },
      "source": [
        "test.drop(['memberid','resort_id','persontravellingid','checkin_date','checkout_date','booking_date','state_code_residence','booking_type_code','reservationstatusid_code','cluster_code'],axis=1,inplace=True)\n"
      ],
      "execution_count": 0,
      "outputs": []
    },
    {
      "cell_type": "code",
      "metadata": {
        "id": "vQ8xc75Pd7L9",
        "colab_type": "code",
        "colab": {
          "base_uri": "https://localhost:8080/",
          "height": 372
        },
        "outputId": "37c650c5-cc72-4e3a-df61-1b7e91af8d78"
      },
      "source": [
        "train.info()"
      ],
      "execution_count": 138,
      "outputs": [
        {
          "output_type": "stream",
          "text": [
            "<class 'pandas.core.frame.DataFrame'>\n",
            "RangeIndex: 341424 entries, 0 to 341423\n",
            "Data columns (total 15 columns):\n",
            "reservation_id                        341424 non-null object\n",
            "channel_code                          341424 non-null int64\n",
            "main_product_code                     341424 non-null int64\n",
            "numberofadults                        341424 non-null int64\n",
            "numberofchildren                      341424 non-null int64\n",
            "resort_region_code                    341424 non-null int64\n",
            "resort_type_code                      341424 non-null int64\n",
            "room_type_booked_code                 341424 non-null int64\n",
            "roomnights                            341424 non-null int64\n",
            "season_holidayed_code                 341424 non-null float64\n",
            "state_code_resort                     341424 non-null int64\n",
            "total_pax                             341424 non-null int64\n",
            "member_age_buckets                    341424 non-null object\n",
            "amount_spent_per_room_night_scaled    341424 non-null float64\n",
            "duration_days                         341424 non-null int64\n",
            "dtypes: float64(2), int64(11), object(2)\n",
            "memory usage: 39.1+ MB\n"
          ],
          "name": "stdout"
        }
      ]
    },
    {
      "cell_type": "markdown",
      "metadata": {
        "id": "gDXtNb-vwEC7",
        "colab_type": "text"
      },
      "source": [
        "# reordering columns"
      ]
    },
    {
      "cell_type": "code",
      "metadata": {
        "id": "-OSHRUZ-wDrx",
        "colab_type": "code",
        "colab": {}
      },
      "source": [
        "train = train[['reservation_id','channel_code','main_product_code','numberofadults','numberofchildren','resort_region_code','resort_type_code','room_type_booked_code','roomnights','season_holidayed_code','state_code_resort','total_pax','member_age_buckets','duration_days','amount_spent_per_room_night_scaled']]\n"
      ],
      "execution_count": 0,
      "outputs": []
    },
    {
      "cell_type": "code",
      "metadata": {
        "id": "Ob2gdLuOy-lg",
        "colab_type": "code",
        "colab": {}
      },
      "source": [
        "train"
      ],
      "execution_count": 0,
      "outputs": []
    },
    {
      "cell_type": "code",
      "metadata": {
        "id": "b8koz2aTzMYj",
        "colab_type": "code",
        "colab": {}
      },
      "source": [
        "test = test[['reservation_id','channel_code','main_product_code','numberofadults','numberofchildren','resort_region_code','resort_type_code','room_type_booked_code','roomnights','season_holidayed_code','state_code_resort','total_pax','member_age_buckets','duration_days']]\n"
      ],
      "execution_count": 0,
      "outputs": []
    },
    {
      "cell_type": "code",
      "metadata": {
        "id": "xPTdmFChduP3",
        "colab_type": "code",
        "colab": {
          "base_uri": "https://localhost:8080/",
          "height": 1886
        },
        "outputId": "ad772b32-d7b3-4782-de89-ebe1f47efa30"
      },
      "source": [
        "test"
      ],
      "execution_count": 144,
      "outputs": [
        {
          "output_type": "execute_result",
          "data": {
            "text/html": [
              "<div>\n",
              "<style scoped>\n",
              "    .dataframe tbody tr th:only-of-type {\n",
              "        vertical-align: middle;\n",
              "    }\n",
              "\n",
              "    .dataframe tbody tr th {\n",
              "        vertical-align: top;\n",
              "    }\n",
              "\n",
              "    .dataframe thead th {\n",
              "        text-align: right;\n",
              "    }\n",
              "</style>\n",
              "<table border=\"1\" class=\"dataframe\">\n",
              "  <thead>\n",
              "    <tr style=\"text-align: right;\">\n",
              "      <th></th>\n",
              "      <th>reservation_id</th>\n",
              "      <th>channel_code</th>\n",
              "      <th>main_product_code</th>\n",
              "      <th>numberofadults</th>\n",
              "      <th>numberofchildren</th>\n",
              "      <th>resort_region_code</th>\n",
              "      <th>resort_type_code</th>\n",
              "      <th>room_type_booked_code</th>\n",
              "      <th>roomnights</th>\n",
              "      <th>season_holidayed_code</th>\n",
              "      <th>state_code_resort</th>\n",
              "      <th>total_pax</th>\n",
              "      <th>member_age_buckets</th>\n",
              "      <th>duration_days</th>\n",
              "    </tr>\n",
              "  </thead>\n",
              "  <tbody>\n",
              "    <tr>\n",
              "      <th>0</th>\n",
              "      <td>7dae1ce6bc8f69481328f2be5c4943077dad5598b5f66d...</td>\n",
              "      <td>3</td>\n",
              "      <td>2</td>\n",
              "      <td>2</td>\n",
              "      <td>0</td>\n",
              "      <td>3</td>\n",
              "      <td>3</td>\n",
              "      <td>4</td>\n",
              "      <td>1</td>\n",
              "      <td>2.0</td>\n",
              "      <td>3</td>\n",
              "      <td>3</td>\n",
              "      <td>H</td>\n",
              "      <td>1</td>\n",
              "    </tr>\n",
              "    <tr>\n",
              "      <th>1</th>\n",
              "      <td>fe0d4e444e1818436c88f72f1cf800536c2f785e59baeb...</td>\n",
              "      <td>1</td>\n",
              "      <td>2</td>\n",
              "      <td>4</td>\n",
              "      <td>0</td>\n",
              "      <td>1</td>\n",
              "      <td>1</td>\n",
              "      <td>4</td>\n",
              "      <td>8</td>\n",
              "      <td>2.0</td>\n",
              "      <td>4</td>\n",
              "      <td>2</td>\n",
              "      <td>H</td>\n",
              "      <td>4</td>\n",
              "    </tr>\n",
              "    <tr>\n",
              "      <th>2</th>\n",
              "      <td>540bd4285ad8168e8388f84ee74a82cd4f97dc0a404d3e...</td>\n",
              "      <td>3</td>\n",
              "      <td>2</td>\n",
              "      <td>3</td>\n",
              "      <td>0</td>\n",
              "      <td>2</td>\n",
              "      <td>2</td>\n",
              "      <td>2</td>\n",
              "      <td>3</td>\n",
              "      <td>4.0</td>\n",
              "      <td>2</td>\n",
              "      <td>3</td>\n",
              "      <td>H</td>\n",
              "      <td>3</td>\n",
              "    </tr>\n",
              "    <tr>\n",
              "      <th>3</th>\n",
              "      <td>09593c907ae262e46f655b4db9e14f54a19eadcfdd2679...</td>\n",
              "      <td>1</td>\n",
              "      <td>2</td>\n",
              "      <td>3</td>\n",
              "      <td>0</td>\n",
              "      <td>1</td>\n",
              "      <td>1</td>\n",
              "      <td>2</td>\n",
              "      <td>3</td>\n",
              "      <td>2.0</td>\n",
              "      <td>6</td>\n",
              "      <td>3</td>\n",
              "      <td>H</td>\n",
              "      <td>3</td>\n",
              "    </tr>\n",
              "    <tr>\n",
              "      <th>4</th>\n",
              "      <td>f4c50caac68051faf37551d70bb17eebef2a20e2244cb1...</td>\n",
              "      <td>1</td>\n",
              "      <td>2</td>\n",
              "      <td>4</td>\n",
              "      <td>0</td>\n",
              "      <td>1</td>\n",
              "      <td>2</td>\n",
              "      <td>3</td>\n",
              "      <td>8</td>\n",
              "      <td>2.0</td>\n",
              "      <td>11</td>\n",
              "      <td>2</td>\n",
              "      <td>H</td>\n",
              "      <td>4</td>\n",
              "    </tr>\n",
              "    <tr>\n",
              "      <th>5</th>\n",
              "      <td>69a8c691057e9396eaa23625a47435eebda41102b83dfb...</td>\n",
              "      <td>1</td>\n",
              "      <td>2</td>\n",
              "      <td>2</td>\n",
              "      <td>0</td>\n",
              "      <td>1</td>\n",
              "      <td>1</td>\n",
              "      <td>2</td>\n",
              "      <td>4</td>\n",
              "      <td>2.0</td>\n",
              "      <td>6</td>\n",
              "      <td>3</td>\n",
              "      <td>H</td>\n",
              "      <td>4</td>\n",
              "    </tr>\n",
              "    <tr>\n",
              "      <th>6</th>\n",
              "      <td>0cee97bb4f3b15493d20994fc4ef34b54d778f8eb7e6d3...</td>\n",
              "      <td>1</td>\n",
              "      <td>2</td>\n",
              "      <td>2</td>\n",
              "      <td>0</td>\n",
              "      <td>2</td>\n",
              "      <td>2</td>\n",
              "      <td>2</td>\n",
              "      <td>4</td>\n",
              "      <td>2.0</td>\n",
              "      <td>2</td>\n",
              "      <td>2</td>\n",
              "      <td>H</td>\n",
              "      <td>4</td>\n",
              "    </tr>\n",
              "    <tr>\n",
              "      <th>7</th>\n",
              "      <td>13fd266f2859828250494a72c5e14d12dfdb6cac0983d8...</td>\n",
              "      <td>3</td>\n",
              "      <td>2</td>\n",
              "      <td>2</td>\n",
              "      <td>0</td>\n",
              "      <td>1</td>\n",
              "      <td>5</td>\n",
              "      <td>4</td>\n",
              "      <td>1</td>\n",
              "      <td>3.0</td>\n",
              "      <td>1</td>\n",
              "      <td>4</td>\n",
              "      <td>D</td>\n",
              "      <td>1</td>\n",
              "    </tr>\n",
              "    <tr>\n",
              "      <th>8</th>\n",
              "      <td>8a0e44a731edd24628fa9e9d5d2ed9b22f07e91b6881f2...</td>\n",
              "      <td>1</td>\n",
              "      <td>2</td>\n",
              "      <td>2</td>\n",
              "      <td>2</td>\n",
              "      <td>1</td>\n",
              "      <td>1</td>\n",
              "      <td>2</td>\n",
              "      <td>2</td>\n",
              "      <td>3.0</td>\n",
              "      <td>6</td>\n",
              "      <td>4</td>\n",
              "      <td>D</td>\n",
              "      <td>2</td>\n",
              "    </tr>\n",
              "    <tr>\n",
              "      <th>9</th>\n",
              "      <td>c3bdb69eedad1a992df7be568e50da86a4e1de8ad7ff36...</td>\n",
              "      <td>2</td>\n",
              "      <td>2</td>\n",
              "      <td>2</td>\n",
              "      <td>0</td>\n",
              "      <td>1</td>\n",
              "      <td>1</td>\n",
              "      <td>2</td>\n",
              "      <td>2</td>\n",
              "      <td>4.0</td>\n",
              "      <td>6</td>\n",
              "      <td>3</td>\n",
              "      <td>D</td>\n",
              "      <td>2</td>\n",
              "    </tr>\n",
              "    <tr>\n",
              "      <th>10</th>\n",
              "      <td>dda0409fb2127899829ec700d635f81ca656081af07e92...</td>\n",
              "      <td>1</td>\n",
              "      <td>2</td>\n",
              "      <td>2</td>\n",
              "      <td>2</td>\n",
              "      <td>1</td>\n",
              "      <td>5</td>\n",
              "      <td>2</td>\n",
              "      <td>3</td>\n",
              "      <td>2.0</td>\n",
              "      <td>1</td>\n",
              "      <td>4</td>\n",
              "      <td>D</td>\n",
              "      <td>2</td>\n",
              "    </tr>\n",
              "    <tr>\n",
              "      <th>11</th>\n",
              "      <td>9e086496b64ce3b184f41f76f93dd294bfa47b735ec53e...</td>\n",
              "      <td>3</td>\n",
              "      <td>2</td>\n",
              "      <td>6</td>\n",
              "      <td>0</td>\n",
              "      <td>1</td>\n",
              "      <td>1</td>\n",
              "      <td>3</td>\n",
              "      <td>4</td>\n",
              "      <td>3.0</td>\n",
              "      <td>4</td>\n",
              "      <td>3</td>\n",
              "      <td>D</td>\n",
              "      <td>2</td>\n",
              "    </tr>\n",
              "    <tr>\n",
              "      <th>12</th>\n",
              "      <td>f8909ee404b8c0b63356700b32cbb49b85999aedfbc477...</td>\n",
              "      <td>1</td>\n",
              "      <td>2</td>\n",
              "      <td>3</td>\n",
              "      <td>0</td>\n",
              "      <td>3</td>\n",
              "      <td>3</td>\n",
              "      <td>3</td>\n",
              "      <td>4</td>\n",
              "      <td>3.0</td>\n",
              "      <td>3</td>\n",
              "      <td>4</td>\n",
              "      <td>D</td>\n",
              "      <td>4</td>\n",
              "    </tr>\n",
              "    <tr>\n",
              "      <th>13</th>\n",
              "      <td>23ca371a7498da634cc333116b848da08af9ba5e7880e8...</td>\n",
              "      <td>2</td>\n",
              "      <td>2</td>\n",
              "      <td>2</td>\n",
              "      <td>0</td>\n",
              "      <td>1</td>\n",
              "      <td>2</td>\n",
              "      <td>3</td>\n",
              "      <td>2</td>\n",
              "      <td>4.0</td>\n",
              "      <td>11</td>\n",
              "      <td>3</td>\n",
              "      <td>D</td>\n",
              "      <td>2</td>\n",
              "    </tr>\n",
              "    <tr>\n",
              "      <th>14</th>\n",
              "      <td>32c2bd7ff3b0d092e046dd10811f0bee2a896fc241e76e...</td>\n",
              "      <td>3</td>\n",
              "      <td>2</td>\n",
              "      <td>4</td>\n",
              "      <td>0</td>\n",
              "      <td>2</td>\n",
              "      <td>1</td>\n",
              "      <td>4</td>\n",
              "      <td>4</td>\n",
              "      <td>2.0</td>\n",
              "      <td>7</td>\n",
              "      <td>1</td>\n",
              "      <td>F</td>\n",
              "      <td>1</td>\n",
              "    </tr>\n",
              "    <tr>\n",
              "      <th>15</th>\n",
              "      <td>7851d4c09b327e1ae935e158de1c448d69d56fc22aecc0...</td>\n",
              "      <td>3</td>\n",
              "      <td>2</td>\n",
              "      <td>4</td>\n",
              "      <td>0</td>\n",
              "      <td>2</td>\n",
              "      <td>2</td>\n",
              "      <td>4</td>\n",
              "      <td>1</td>\n",
              "      <td>4.0</td>\n",
              "      <td>2</td>\n",
              "      <td>5</td>\n",
              "      <td>F</td>\n",
              "      <td>1</td>\n",
              "    </tr>\n",
              "    <tr>\n",
              "      <th>16</th>\n",
              "      <td>6b1ecc1e74ab96e77096d2da2d199e437537bed7aab1eb...</td>\n",
              "      <td>3</td>\n",
              "      <td>2</td>\n",
              "      <td>2</td>\n",
              "      <td>0</td>\n",
              "      <td>2</td>\n",
              "      <td>1</td>\n",
              "      <td>4</td>\n",
              "      <td>5</td>\n",
              "      <td>4.0</td>\n",
              "      <td>7</td>\n",
              "      <td>2</td>\n",
              "      <td>F</td>\n",
              "      <td>1</td>\n",
              "    </tr>\n",
              "    <tr>\n",
              "      <th>17</th>\n",
              "      <td>6526b012e84cb02f904fec5becc67421fc170f13949c87...</td>\n",
              "      <td>1</td>\n",
              "      <td>2</td>\n",
              "      <td>6</td>\n",
              "      <td>0</td>\n",
              "      <td>2</td>\n",
              "      <td>2</td>\n",
              "      <td>1</td>\n",
              "      <td>2</td>\n",
              "      <td>4.0</td>\n",
              "      <td>2</td>\n",
              "      <td>3</td>\n",
              "      <td>F</td>\n",
              "      <td>1</td>\n",
              "    </tr>\n",
              "    <tr>\n",
              "      <th>18</th>\n",
              "      <td>cdc3cf19518e9b75c5da4f01112a6271cb25a569c1a49b...</td>\n",
              "      <td>3</td>\n",
              "      <td>2</td>\n",
              "      <td>4</td>\n",
              "      <td>0</td>\n",
              "      <td>1</td>\n",
              "      <td>1</td>\n",
              "      <td>2</td>\n",
              "      <td>3</td>\n",
              "      <td>2.0</td>\n",
              "      <td>6</td>\n",
              "      <td>4</td>\n",
              "      <td>F</td>\n",
              "      <td>3</td>\n",
              "    </tr>\n",
              "    <tr>\n",
              "      <th>19</th>\n",
              "      <td>d9a6e89cf8e7f189b5a48ea33f3b24608fa8b0cdc09145...</td>\n",
              "      <td>1</td>\n",
              "      <td>2</td>\n",
              "      <td>2</td>\n",
              "      <td>0</td>\n",
              "      <td>1</td>\n",
              "      <td>5</td>\n",
              "      <td>4</td>\n",
              "      <td>1</td>\n",
              "      <td>2.0</td>\n",
              "      <td>1</td>\n",
              "      <td>2</td>\n",
              "      <td>F</td>\n",
              "      <td>1</td>\n",
              "    </tr>\n",
              "    <tr>\n",
              "      <th>20</th>\n",
              "      <td>b255c5ff3839c132fdc38a175de01eaa7ebcdc12f3ec25...</td>\n",
              "      <td>2</td>\n",
              "      <td>2</td>\n",
              "      <td>2</td>\n",
              "      <td>0</td>\n",
              "      <td>2</td>\n",
              "      <td>7</td>\n",
              "      <td>4</td>\n",
              "      <td>1</td>\n",
              "      <td>2.0</td>\n",
              "      <td>9</td>\n",
              "      <td>2</td>\n",
              "      <td>F</td>\n",
              "      <td>1</td>\n",
              "    </tr>\n",
              "    <tr>\n",
              "      <th>21</th>\n",
              "      <td>f0f817d2d3429f6023849605d1a86e215457a2a932f3dc...</td>\n",
              "      <td>2</td>\n",
              "      <td>2</td>\n",
              "      <td>6</td>\n",
              "      <td>0</td>\n",
              "      <td>2</td>\n",
              "      <td>2</td>\n",
              "      <td>3</td>\n",
              "      <td>4</td>\n",
              "      <td>3.0</td>\n",
              "      <td>2</td>\n",
              "      <td>2</td>\n",
              "      <td>F</td>\n",
              "      <td>1</td>\n",
              "    </tr>\n",
              "    <tr>\n",
              "      <th>22</th>\n",
              "      <td>a237fbaebf32fc17802886cc706415d75d8f8e89e2222b...</td>\n",
              "      <td>2</td>\n",
              "      <td>2</td>\n",
              "      <td>2</td>\n",
              "      <td>0</td>\n",
              "      <td>2</td>\n",
              "      <td>2</td>\n",
              "      <td>4</td>\n",
              "      <td>2</td>\n",
              "      <td>3.0</td>\n",
              "      <td>2</td>\n",
              "      <td>2</td>\n",
              "      <td>F</td>\n",
              "      <td>1</td>\n",
              "    </tr>\n",
              "    <tr>\n",
              "      <th>23</th>\n",
              "      <td>6781f4bbf0e4fbcb9929ccda1a637064e301a6c0c4fb33...</td>\n",
              "      <td>3</td>\n",
              "      <td>2</td>\n",
              "      <td>4</td>\n",
              "      <td>0</td>\n",
              "      <td>1</td>\n",
              "      <td>1</td>\n",
              "      <td>3</td>\n",
              "      <td>2</td>\n",
              "      <td>3.0</td>\n",
              "      <td>6</td>\n",
              "      <td>2</td>\n",
              "      <td>F</td>\n",
              "      <td>1</td>\n",
              "    </tr>\n",
              "    <tr>\n",
              "      <th>24</th>\n",
              "      <td>b8b46db467b8c9746553aea05a2faf94858c7ad1f9cf86...</td>\n",
              "      <td>1</td>\n",
              "      <td>2</td>\n",
              "      <td>6</td>\n",
              "      <td>0</td>\n",
              "      <td>2</td>\n",
              "      <td>4</td>\n",
              "      <td>3</td>\n",
              "      <td>6</td>\n",
              "      <td>2.0</td>\n",
              "      <td>10</td>\n",
              "      <td>3</td>\n",
              "      <td>F</td>\n",
              "      <td>3</td>\n",
              "    </tr>\n",
              "    <tr>\n",
              "      <th>25</th>\n",
              "      <td>1141dc30cdcd7a3a85a22a44f70dec4b969f6e18c9e112...</td>\n",
              "      <td>1</td>\n",
              "      <td>2</td>\n",
              "      <td>3</td>\n",
              "      <td>0</td>\n",
              "      <td>1</td>\n",
              "      <td>1</td>\n",
              "      <td>3</td>\n",
              "      <td>3</td>\n",
              "      <td>4.0</td>\n",
              "      <td>6</td>\n",
              "      <td>2</td>\n",
              "      <td>F</td>\n",
              "      <td>3</td>\n",
              "    </tr>\n",
              "    <tr>\n",
              "      <th>26</th>\n",
              "      <td>6cc58b784cd25c50822c81a5cbe99d11eff835883bc288...</td>\n",
              "      <td>1</td>\n",
              "      <td>2</td>\n",
              "      <td>4</td>\n",
              "      <td>0</td>\n",
              "      <td>3</td>\n",
              "      <td>3</td>\n",
              "      <td>1</td>\n",
              "      <td>2</td>\n",
              "      <td>3.0</td>\n",
              "      <td>5</td>\n",
              "      <td>4</td>\n",
              "      <td>F</td>\n",
              "      <td>1</td>\n",
              "    </tr>\n",
              "    <tr>\n",
              "      <th>27</th>\n",
              "      <td>bdb817fa36df8d04a0b19f8762b55a79527681e2abdb2d...</td>\n",
              "      <td>3</td>\n",
              "      <td>2</td>\n",
              "      <td>6</td>\n",
              "      <td>0</td>\n",
              "      <td>3</td>\n",
              "      <td>3</td>\n",
              "      <td>1</td>\n",
              "      <td>1</td>\n",
              "      <td>2.0</td>\n",
              "      <td>5</td>\n",
              "      <td>6</td>\n",
              "      <td>F</td>\n",
              "      <td>1</td>\n",
              "    </tr>\n",
              "    <tr>\n",
              "      <th>28</th>\n",
              "      <td>e4a2d242d20d4e91781152a30259af033430529ce6461e...</td>\n",
              "      <td>2</td>\n",
              "      <td>2</td>\n",
              "      <td>2</td>\n",
              "      <td>0</td>\n",
              "      <td>1</td>\n",
              "      <td>1</td>\n",
              "      <td>2</td>\n",
              "      <td>3</td>\n",
              "      <td>4.0</td>\n",
              "      <td>6</td>\n",
              "      <td>4</td>\n",
              "      <td>F</td>\n",
              "      <td>3</td>\n",
              "    </tr>\n",
              "    <tr>\n",
              "      <th>29</th>\n",
              "      <td>ffa636b90ea50a355c44309c6e1d5ed9ada4ed7f5224d9...</td>\n",
              "      <td>2</td>\n",
              "      <td>2</td>\n",
              "      <td>5</td>\n",
              "      <td>0</td>\n",
              "      <td>1</td>\n",
              "      <td>1</td>\n",
              "      <td>2</td>\n",
              "      <td>2</td>\n",
              "      <td>3.0</td>\n",
              "      <td>6</td>\n",
              "      <td>3</td>\n",
              "      <td>F</td>\n",
              "      <td>1</td>\n",
              "    </tr>\n",
              "    <tr>\n",
              "      <th>...</th>\n",
              "      <td>...</td>\n",
              "      <td>...</td>\n",
              "      <td>...</td>\n",
              "      <td>...</td>\n",
              "      <td>...</td>\n",
              "      <td>...</td>\n",
              "      <td>...</td>\n",
              "      <td>...</td>\n",
              "      <td>...</td>\n",
              "      <td>...</td>\n",
              "      <td>...</td>\n",
              "      <td>...</td>\n",
              "      <td>...</td>\n",
              "      <td>...</td>\n",
              "    </tr>\n",
              "    <tr>\n",
              "      <th>146735</th>\n",
              "      <td>58e23de2f939f094eefb6e127bab2837b21c5adfd05435...</td>\n",
              "      <td>3</td>\n",
              "      <td>3</td>\n",
              "      <td>6</td>\n",
              "      <td>0</td>\n",
              "      <td>1</td>\n",
              "      <td>1</td>\n",
              "      <td>3</td>\n",
              "      <td>2</td>\n",
              "      <td>4.0</td>\n",
              "      <td>6</td>\n",
              "      <td>4</td>\n",
              "      <td>A</td>\n",
              "      <td>1</td>\n",
              "    </tr>\n",
              "    <tr>\n",
              "      <th>146736</th>\n",
              "      <td>7627a27021297f9ab0070ca4fa45e76aa6ad5b0bdf006a...</td>\n",
              "      <td>3</td>\n",
              "      <td>3</td>\n",
              "      <td>6</td>\n",
              "      <td>0</td>\n",
              "      <td>1</td>\n",
              "      <td>1</td>\n",
              "      <td>3</td>\n",
              "      <td>2</td>\n",
              "      <td>4.0</td>\n",
              "      <td>6</td>\n",
              "      <td>4</td>\n",
              "      <td>A</td>\n",
              "      <td>1</td>\n",
              "    </tr>\n",
              "    <tr>\n",
              "      <th>146737</th>\n",
              "      <td>e9c8a748695df586b04f115e878e388b3eb0b8c3410cd4...</td>\n",
              "      <td>3</td>\n",
              "      <td>2</td>\n",
              "      <td>4</td>\n",
              "      <td>0</td>\n",
              "      <td>2</td>\n",
              "      <td>1</td>\n",
              "      <td>2</td>\n",
              "      <td>1</td>\n",
              "      <td>2.0</td>\n",
              "      <td>7</td>\n",
              "      <td>5</td>\n",
              "      <td>H</td>\n",
              "      <td>1</td>\n",
              "    </tr>\n",
              "    <tr>\n",
              "      <th>146738</th>\n",
              "      <td>364cfceee7975aa59900200872347a2119b35ce58d9335...</td>\n",
              "      <td>3</td>\n",
              "      <td>4</td>\n",
              "      <td>2</td>\n",
              "      <td>1</td>\n",
              "      <td>2</td>\n",
              "      <td>2</td>\n",
              "      <td>2</td>\n",
              "      <td>1</td>\n",
              "      <td>4.0</td>\n",
              "      <td>2</td>\n",
              "      <td>3</td>\n",
              "      <td>C</td>\n",
              "      <td>1</td>\n",
              "    </tr>\n",
              "    <tr>\n",
              "      <th>146739</th>\n",
              "      <td>90b8faf90af409838c27b3afc750c4e24995cac50dbc71...</td>\n",
              "      <td>1</td>\n",
              "      <td>3</td>\n",
              "      <td>3</td>\n",
              "      <td>0</td>\n",
              "      <td>1</td>\n",
              "      <td>1</td>\n",
              "      <td>3</td>\n",
              "      <td>1</td>\n",
              "      <td>4.0</td>\n",
              "      <td>1</td>\n",
              "      <td>2</td>\n",
              "      <td>E</td>\n",
              "      <td>1</td>\n",
              "    </tr>\n",
              "    <tr>\n",
              "      <th>146740</th>\n",
              "      <td>383c5e9621ffaa28fdc354df1fd00c3b86b211e381fb65...</td>\n",
              "      <td>3</td>\n",
              "      <td>4</td>\n",
              "      <td>2</td>\n",
              "      <td>0</td>\n",
              "      <td>1</td>\n",
              "      <td>5</td>\n",
              "      <td>4</td>\n",
              "      <td>4</td>\n",
              "      <td>4.0</td>\n",
              "      <td>1</td>\n",
              "      <td>2</td>\n",
              "      <td>B</td>\n",
              "      <td>2</td>\n",
              "    </tr>\n",
              "    <tr>\n",
              "      <th>146741</th>\n",
              "      <td>33a103d560a9d1a0b7d5aa7eb7ed577f410ffacc7797d7...</td>\n",
              "      <td>2</td>\n",
              "      <td>4</td>\n",
              "      <td>4</td>\n",
              "      <td>1</td>\n",
              "      <td>1</td>\n",
              "      <td>1</td>\n",
              "      <td>1</td>\n",
              "      <td>3</td>\n",
              "      <td>4.0</td>\n",
              "      <td>1</td>\n",
              "      <td>5</td>\n",
              "      <td>B</td>\n",
              "      <td>3</td>\n",
              "    </tr>\n",
              "    <tr>\n",
              "      <th>146742</th>\n",
              "      <td>b95a7dd1d0d0f651612657d4a1f16c61b89dd7a0998f87...</td>\n",
              "      <td>3</td>\n",
              "      <td>3</td>\n",
              "      <td>4</td>\n",
              "      <td>0</td>\n",
              "      <td>2</td>\n",
              "      <td>1</td>\n",
              "      <td>4</td>\n",
              "      <td>3</td>\n",
              "      <td>2.0</td>\n",
              "      <td>7</td>\n",
              "      <td>2</td>\n",
              "      <td>F</td>\n",
              "      <td>1</td>\n",
              "    </tr>\n",
              "    <tr>\n",
              "      <th>146743</th>\n",
              "      <td>b8378762c1e1296e14be3c5ae46becd1319c29032ca3f0...</td>\n",
              "      <td>3</td>\n",
              "      <td>4</td>\n",
              "      <td>2</td>\n",
              "      <td>0</td>\n",
              "      <td>3</td>\n",
              "      <td>3</td>\n",
              "      <td>3</td>\n",
              "      <td>1</td>\n",
              "      <td>4.0</td>\n",
              "      <td>3</td>\n",
              "      <td>2</td>\n",
              "      <td>B</td>\n",
              "      <td>1</td>\n",
              "    </tr>\n",
              "    <tr>\n",
              "      <th>146744</th>\n",
              "      <td>218740b2f8d9b6b485168987a52c714dbc8d45bf50751b...</td>\n",
              "      <td>2</td>\n",
              "      <td>1</td>\n",
              "      <td>3</td>\n",
              "      <td>0</td>\n",
              "      <td>2</td>\n",
              "      <td>2</td>\n",
              "      <td>2</td>\n",
              "      <td>1</td>\n",
              "      <td>3.0</td>\n",
              "      <td>2</td>\n",
              "      <td>3</td>\n",
              "      <td>F</td>\n",
              "      <td>1</td>\n",
              "    </tr>\n",
              "    <tr>\n",
              "      <th>146745</th>\n",
              "      <td>993d080251cc5b224c39c20d5ee48b7a3f7abdcb758fa5...</td>\n",
              "      <td>3</td>\n",
              "      <td>2</td>\n",
              "      <td>4</td>\n",
              "      <td>0</td>\n",
              "      <td>3</td>\n",
              "      <td>3</td>\n",
              "      <td>2</td>\n",
              "      <td>1</td>\n",
              "      <td>4.0</td>\n",
              "      <td>5</td>\n",
              "      <td>5</td>\n",
              "      <td>H</td>\n",
              "      <td>1</td>\n",
              "    </tr>\n",
              "    <tr>\n",
              "      <th>146746</th>\n",
              "      <td>152da1144a37ae61fa78da11466b03b431bc3d01d3aaf1...</td>\n",
              "      <td>1</td>\n",
              "      <td>2</td>\n",
              "      <td>2</td>\n",
              "      <td>0</td>\n",
              "      <td>3</td>\n",
              "      <td>3</td>\n",
              "      <td>3</td>\n",
              "      <td>2</td>\n",
              "      <td>4.0</td>\n",
              "      <td>5</td>\n",
              "      <td>2</td>\n",
              "      <td>F</td>\n",
              "      <td>2</td>\n",
              "    </tr>\n",
              "    <tr>\n",
              "      <th>146747</th>\n",
              "      <td>74fb63bfde66a661a3dc4ba47cf053d8d789179c94b1b4...</td>\n",
              "      <td>3</td>\n",
              "      <td>3</td>\n",
              "      <td>3</td>\n",
              "      <td>0</td>\n",
              "      <td>2</td>\n",
              "      <td>1</td>\n",
              "      <td>2</td>\n",
              "      <td>1</td>\n",
              "      <td>3.0</td>\n",
              "      <td>7</td>\n",
              "      <td>3</td>\n",
              "      <td>F</td>\n",
              "      <td>1</td>\n",
              "    </tr>\n",
              "    <tr>\n",
              "      <th>146748</th>\n",
              "      <td>8b80420c98d2431a2bbb860d87761fd8585803557036aa...</td>\n",
              "      <td>2</td>\n",
              "      <td>4</td>\n",
              "      <td>2</td>\n",
              "      <td>0</td>\n",
              "      <td>2</td>\n",
              "      <td>2</td>\n",
              "      <td>3</td>\n",
              "      <td>2</td>\n",
              "      <td>3.0</td>\n",
              "      <td>2</td>\n",
              "      <td>3</td>\n",
              "      <td>F</td>\n",
              "      <td>1</td>\n",
              "    </tr>\n",
              "    <tr>\n",
              "      <th>146749</th>\n",
              "      <td>7cfa13ba8f4fd8c8e9aa9e43be1a3c1d33d8be3c319e66...</td>\n",
              "      <td>2</td>\n",
              "      <td>3</td>\n",
              "      <td>2</td>\n",
              "      <td>0</td>\n",
              "      <td>1</td>\n",
              "      <td>1</td>\n",
              "      <td>2</td>\n",
              "      <td>2</td>\n",
              "      <td>4.0</td>\n",
              "      <td>1</td>\n",
              "      <td>2</td>\n",
              "      <td>A</td>\n",
              "      <td>1</td>\n",
              "    </tr>\n",
              "    <tr>\n",
              "      <th>146750</th>\n",
              "      <td>2aba35d5d0ae4ae06a76ffc5f9a5d7bc4dfc043835b915...</td>\n",
              "      <td>3</td>\n",
              "      <td>2</td>\n",
              "      <td>3</td>\n",
              "      <td>0</td>\n",
              "      <td>3</td>\n",
              "      <td>4</td>\n",
              "      <td>4</td>\n",
              "      <td>6</td>\n",
              "      <td>4.0</td>\n",
              "      <td>5</td>\n",
              "      <td>2</td>\n",
              "      <td>D</td>\n",
              "      <td>2</td>\n",
              "    </tr>\n",
              "    <tr>\n",
              "      <th>146751</th>\n",
              "      <td>653804dfdad5ed24d32d869bd5882330a1aec55884706d...</td>\n",
              "      <td>3</td>\n",
              "      <td>2</td>\n",
              "      <td>2</td>\n",
              "      <td>0</td>\n",
              "      <td>3</td>\n",
              "      <td>1</td>\n",
              "      <td>3</td>\n",
              "      <td>1</td>\n",
              "      <td>3.0</td>\n",
              "      <td>5</td>\n",
              "      <td>2</td>\n",
              "      <td>D</td>\n",
              "      <td>1</td>\n",
              "    </tr>\n",
              "    <tr>\n",
              "      <th>146752</th>\n",
              "      <td>f2db06f2d75a42bfb4bf1117b6823e8a57807d896e5fa6...</td>\n",
              "      <td>3</td>\n",
              "      <td>2</td>\n",
              "      <td>4</td>\n",
              "      <td>0</td>\n",
              "      <td>2</td>\n",
              "      <td>1</td>\n",
              "      <td>2</td>\n",
              "      <td>4</td>\n",
              "      <td>2.0</td>\n",
              "      <td>9</td>\n",
              "      <td>6</td>\n",
              "      <td>G</td>\n",
              "      <td>1</td>\n",
              "    </tr>\n",
              "    <tr>\n",
              "      <th>146753</th>\n",
              "      <td>36406db056d5e46eda29f73b0525d3091298b6460d6fcc...</td>\n",
              "      <td>3</td>\n",
              "      <td>2</td>\n",
              "      <td>3</td>\n",
              "      <td>0</td>\n",
              "      <td>3</td>\n",
              "      <td>1</td>\n",
              "      <td>3</td>\n",
              "      <td>1</td>\n",
              "      <td>3.0</td>\n",
              "      <td>5</td>\n",
              "      <td>3</td>\n",
              "      <td>C</td>\n",
              "      <td>1</td>\n",
              "    </tr>\n",
              "    <tr>\n",
              "      <th>146754</th>\n",
              "      <td>c34904650d2f5e382d37edd64cdc632a4fc1e48bd75c38...</td>\n",
              "      <td>2</td>\n",
              "      <td>3</td>\n",
              "      <td>2</td>\n",
              "      <td>0</td>\n",
              "      <td>3</td>\n",
              "      <td>3</td>\n",
              "      <td>4</td>\n",
              "      <td>1</td>\n",
              "      <td>4.0</td>\n",
              "      <td>5</td>\n",
              "      <td>2</td>\n",
              "      <td>C</td>\n",
              "      <td>1</td>\n",
              "    </tr>\n",
              "    <tr>\n",
              "      <th>146755</th>\n",
              "      <td>0159f3e72e4c35ae2147d9d1af5321f60efa1d63d1d679...</td>\n",
              "      <td>3</td>\n",
              "      <td>3</td>\n",
              "      <td>4</td>\n",
              "      <td>0</td>\n",
              "      <td>2</td>\n",
              "      <td>2</td>\n",
              "      <td>2</td>\n",
              "      <td>3</td>\n",
              "      <td>3.0</td>\n",
              "      <td>2</td>\n",
              "      <td>4</td>\n",
              "      <td>E</td>\n",
              "      <td>3</td>\n",
              "    </tr>\n",
              "    <tr>\n",
              "      <th>146756</th>\n",
              "      <td>87620a0604fafd004d23b01402a48d3fb8b36de63fda99...</td>\n",
              "      <td>2</td>\n",
              "      <td>4</td>\n",
              "      <td>2</td>\n",
              "      <td>0</td>\n",
              "      <td>2</td>\n",
              "      <td>2</td>\n",
              "      <td>4</td>\n",
              "      <td>1</td>\n",
              "      <td>3.0</td>\n",
              "      <td>2</td>\n",
              "      <td>2</td>\n",
              "      <td>G</td>\n",
              "      <td>1</td>\n",
              "    </tr>\n",
              "    <tr>\n",
              "      <th>146757</th>\n",
              "      <td>2c14b8299f141312dbdb052e15810a144fc34ae4be354a...</td>\n",
              "      <td>2</td>\n",
              "      <td>4</td>\n",
              "      <td>2</td>\n",
              "      <td>0</td>\n",
              "      <td>1</td>\n",
              "      <td>1</td>\n",
              "      <td>2</td>\n",
              "      <td>4</td>\n",
              "      <td>4.0</td>\n",
              "      <td>1</td>\n",
              "      <td>2</td>\n",
              "      <td>C</td>\n",
              "      <td>4</td>\n",
              "    </tr>\n",
              "    <tr>\n",
              "      <th>146758</th>\n",
              "      <td>34dd63240590927401425222113f3b17332a76428c7ca1...</td>\n",
              "      <td>3</td>\n",
              "      <td>2</td>\n",
              "      <td>2</td>\n",
              "      <td>0</td>\n",
              "      <td>1</td>\n",
              "      <td>5</td>\n",
              "      <td>3</td>\n",
              "      <td>3</td>\n",
              "      <td>4.0</td>\n",
              "      <td>1</td>\n",
              "      <td>2</td>\n",
              "      <td>A</td>\n",
              "      <td>1</td>\n",
              "    </tr>\n",
              "    <tr>\n",
              "      <th>146759</th>\n",
              "      <td>ad1652859d4d2641349de86197d15a6a8171cd0fcbfac8...</td>\n",
              "      <td>2</td>\n",
              "      <td>3</td>\n",
              "      <td>2</td>\n",
              "      <td>0</td>\n",
              "      <td>3</td>\n",
              "      <td>3</td>\n",
              "      <td>3</td>\n",
              "      <td>3</td>\n",
              "      <td>4.0</td>\n",
              "      <td>3</td>\n",
              "      <td>2</td>\n",
              "      <td>A</td>\n",
              "      <td>3</td>\n",
              "    </tr>\n",
              "    <tr>\n",
              "      <th>146760</th>\n",
              "      <td>05212a11e703121c0ef8f85b4f7311d0dfc995dee62a9c...</td>\n",
              "      <td>1</td>\n",
              "      <td>3</td>\n",
              "      <td>2</td>\n",
              "      <td>0</td>\n",
              "      <td>1</td>\n",
              "      <td>1</td>\n",
              "      <td>3</td>\n",
              "      <td>1</td>\n",
              "      <td>4.0</td>\n",
              "      <td>1</td>\n",
              "      <td>2</td>\n",
              "      <td>E</td>\n",
              "      <td>1</td>\n",
              "    </tr>\n",
              "    <tr>\n",
              "      <th>146761</th>\n",
              "      <td>a43dd948e3bd01e289e8c6ef93a40b512876969e967353...</td>\n",
              "      <td>3</td>\n",
              "      <td>4</td>\n",
              "      <td>3</td>\n",
              "      <td>0</td>\n",
              "      <td>2</td>\n",
              "      <td>2</td>\n",
              "      <td>2</td>\n",
              "      <td>1</td>\n",
              "      <td>3.0</td>\n",
              "      <td>2</td>\n",
              "      <td>4</td>\n",
              "      <td>B</td>\n",
              "      <td>1</td>\n",
              "    </tr>\n",
              "    <tr>\n",
              "      <th>146762</th>\n",
              "      <td>ed7c7ab2ff18b02e5bb10a99e6883d1529171fa330029a...</td>\n",
              "      <td>1</td>\n",
              "      <td>1</td>\n",
              "      <td>5</td>\n",
              "      <td>0</td>\n",
              "      <td>1</td>\n",
              "      <td>1</td>\n",
              "      <td>2</td>\n",
              "      <td>4</td>\n",
              "      <td>4.0</td>\n",
              "      <td>6</td>\n",
              "      <td>3</td>\n",
              "      <td>F</td>\n",
              "      <td>2</td>\n",
              "    </tr>\n",
              "    <tr>\n",
              "      <th>146763</th>\n",
              "      <td>381d17a0a2d8912650092cbd5e0b16a4f93b6d0fd7d174...</td>\n",
              "      <td>1</td>\n",
              "      <td>7</td>\n",
              "      <td>2</td>\n",
              "      <td>2</td>\n",
              "      <td>3</td>\n",
              "      <td>3</td>\n",
              "      <td>3</td>\n",
              "      <td>2</td>\n",
              "      <td>3.0</td>\n",
              "      <td>3</td>\n",
              "      <td>4</td>\n",
              "      <td>I</td>\n",
              "      <td>1</td>\n",
              "    </tr>\n",
              "    <tr>\n",
              "      <th>146764</th>\n",
              "      <td>4cc41366b74c34ff64babc84eab1da7b45810056785fb8...</td>\n",
              "      <td>2</td>\n",
              "      <td>4</td>\n",
              "      <td>2</td>\n",
              "      <td>0</td>\n",
              "      <td>2</td>\n",
              "      <td>1</td>\n",
              "      <td>4</td>\n",
              "      <td>1</td>\n",
              "      <td>3.0</td>\n",
              "      <td>7</td>\n",
              "      <td>2</td>\n",
              "      <td>B</td>\n",
              "      <td>1</td>\n",
              "    </tr>\n",
              "  </tbody>\n",
              "</table>\n",
              "<p>146765 rows × 14 columns</p>\n",
              "</div>"
            ],
            "text/plain": [
              "                                           reservation_id  channel_code  \\\n",
              "0       7dae1ce6bc8f69481328f2be5c4943077dad5598b5f66d...             3   \n",
              "1       fe0d4e444e1818436c88f72f1cf800536c2f785e59baeb...             1   \n",
              "2       540bd4285ad8168e8388f84ee74a82cd4f97dc0a404d3e...             3   \n",
              "3       09593c907ae262e46f655b4db9e14f54a19eadcfdd2679...             1   \n",
              "4       f4c50caac68051faf37551d70bb17eebef2a20e2244cb1...             1   \n",
              "5       69a8c691057e9396eaa23625a47435eebda41102b83dfb...             1   \n",
              "6       0cee97bb4f3b15493d20994fc4ef34b54d778f8eb7e6d3...             1   \n",
              "7       13fd266f2859828250494a72c5e14d12dfdb6cac0983d8...             3   \n",
              "8       8a0e44a731edd24628fa9e9d5d2ed9b22f07e91b6881f2...             1   \n",
              "9       c3bdb69eedad1a992df7be568e50da86a4e1de8ad7ff36...             2   \n",
              "10      dda0409fb2127899829ec700d635f81ca656081af07e92...             1   \n",
              "11      9e086496b64ce3b184f41f76f93dd294bfa47b735ec53e...             3   \n",
              "12      f8909ee404b8c0b63356700b32cbb49b85999aedfbc477...             1   \n",
              "13      23ca371a7498da634cc333116b848da08af9ba5e7880e8...             2   \n",
              "14      32c2bd7ff3b0d092e046dd10811f0bee2a896fc241e76e...             3   \n",
              "15      7851d4c09b327e1ae935e158de1c448d69d56fc22aecc0...             3   \n",
              "16      6b1ecc1e74ab96e77096d2da2d199e437537bed7aab1eb...             3   \n",
              "17      6526b012e84cb02f904fec5becc67421fc170f13949c87...             1   \n",
              "18      cdc3cf19518e9b75c5da4f01112a6271cb25a569c1a49b...             3   \n",
              "19      d9a6e89cf8e7f189b5a48ea33f3b24608fa8b0cdc09145...             1   \n",
              "20      b255c5ff3839c132fdc38a175de01eaa7ebcdc12f3ec25...             2   \n",
              "21      f0f817d2d3429f6023849605d1a86e215457a2a932f3dc...             2   \n",
              "22      a237fbaebf32fc17802886cc706415d75d8f8e89e2222b...             2   \n",
              "23      6781f4bbf0e4fbcb9929ccda1a637064e301a6c0c4fb33...             3   \n",
              "24      b8b46db467b8c9746553aea05a2faf94858c7ad1f9cf86...             1   \n",
              "25      1141dc30cdcd7a3a85a22a44f70dec4b969f6e18c9e112...             1   \n",
              "26      6cc58b784cd25c50822c81a5cbe99d11eff835883bc288...             1   \n",
              "27      bdb817fa36df8d04a0b19f8762b55a79527681e2abdb2d...             3   \n",
              "28      e4a2d242d20d4e91781152a30259af033430529ce6461e...             2   \n",
              "29      ffa636b90ea50a355c44309c6e1d5ed9ada4ed7f5224d9...             2   \n",
              "...                                                   ...           ...   \n",
              "146735  58e23de2f939f094eefb6e127bab2837b21c5adfd05435...             3   \n",
              "146736  7627a27021297f9ab0070ca4fa45e76aa6ad5b0bdf006a...             3   \n",
              "146737  e9c8a748695df586b04f115e878e388b3eb0b8c3410cd4...             3   \n",
              "146738  364cfceee7975aa59900200872347a2119b35ce58d9335...             3   \n",
              "146739  90b8faf90af409838c27b3afc750c4e24995cac50dbc71...             1   \n",
              "146740  383c5e9621ffaa28fdc354df1fd00c3b86b211e381fb65...             3   \n",
              "146741  33a103d560a9d1a0b7d5aa7eb7ed577f410ffacc7797d7...             2   \n",
              "146742  b95a7dd1d0d0f651612657d4a1f16c61b89dd7a0998f87...             3   \n",
              "146743  b8378762c1e1296e14be3c5ae46becd1319c29032ca3f0...             3   \n",
              "146744  218740b2f8d9b6b485168987a52c714dbc8d45bf50751b...             2   \n",
              "146745  993d080251cc5b224c39c20d5ee48b7a3f7abdcb758fa5...             3   \n",
              "146746  152da1144a37ae61fa78da11466b03b431bc3d01d3aaf1...             1   \n",
              "146747  74fb63bfde66a661a3dc4ba47cf053d8d789179c94b1b4...             3   \n",
              "146748  8b80420c98d2431a2bbb860d87761fd8585803557036aa...             2   \n",
              "146749  7cfa13ba8f4fd8c8e9aa9e43be1a3c1d33d8be3c319e66...             2   \n",
              "146750  2aba35d5d0ae4ae06a76ffc5f9a5d7bc4dfc043835b915...             3   \n",
              "146751  653804dfdad5ed24d32d869bd5882330a1aec55884706d...             3   \n",
              "146752  f2db06f2d75a42bfb4bf1117b6823e8a57807d896e5fa6...             3   \n",
              "146753  36406db056d5e46eda29f73b0525d3091298b6460d6fcc...             3   \n",
              "146754  c34904650d2f5e382d37edd64cdc632a4fc1e48bd75c38...             2   \n",
              "146755  0159f3e72e4c35ae2147d9d1af5321f60efa1d63d1d679...             3   \n",
              "146756  87620a0604fafd004d23b01402a48d3fb8b36de63fda99...             2   \n",
              "146757  2c14b8299f141312dbdb052e15810a144fc34ae4be354a...             2   \n",
              "146758  34dd63240590927401425222113f3b17332a76428c7ca1...             3   \n",
              "146759  ad1652859d4d2641349de86197d15a6a8171cd0fcbfac8...             2   \n",
              "146760  05212a11e703121c0ef8f85b4f7311d0dfc995dee62a9c...             1   \n",
              "146761  a43dd948e3bd01e289e8c6ef93a40b512876969e967353...             3   \n",
              "146762  ed7c7ab2ff18b02e5bb10a99e6883d1529171fa330029a...             1   \n",
              "146763  381d17a0a2d8912650092cbd5e0b16a4f93b6d0fd7d174...             1   \n",
              "146764  4cc41366b74c34ff64babc84eab1da7b45810056785fb8...             2   \n",
              "\n",
              "        main_product_code  numberofadults  numberofchildren  \\\n",
              "0                       2               2                 0   \n",
              "1                       2               4                 0   \n",
              "2                       2               3                 0   \n",
              "3                       2               3                 0   \n",
              "4                       2               4                 0   \n",
              "5                       2               2                 0   \n",
              "6                       2               2                 0   \n",
              "7                       2               2                 0   \n",
              "8                       2               2                 2   \n",
              "9                       2               2                 0   \n",
              "10                      2               2                 2   \n",
              "11                      2               6                 0   \n",
              "12                      2               3                 0   \n",
              "13                      2               2                 0   \n",
              "14                      2               4                 0   \n",
              "15                      2               4                 0   \n",
              "16                      2               2                 0   \n",
              "17                      2               6                 0   \n",
              "18                      2               4                 0   \n",
              "19                      2               2                 0   \n",
              "20                      2               2                 0   \n",
              "21                      2               6                 0   \n",
              "22                      2               2                 0   \n",
              "23                      2               4                 0   \n",
              "24                      2               6                 0   \n",
              "25                      2               3                 0   \n",
              "26                      2               4                 0   \n",
              "27                      2               6                 0   \n",
              "28                      2               2                 0   \n",
              "29                      2               5                 0   \n",
              "...                   ...             ...               ...   \n",
              "146735                  3               6                 0   \n",
              "146736                  3               6                 0   \n",
              "146737                  2               4                 0   \n",
              "146738                  4               2                 1   \n",
              "146739                  3               3                 0   \n",
              "146740                  4               2                 0   \n",
              "146741                  4               4                 1   \n",
              "146742                  3               4                 0   \n",
              "146743                  4               2                 0   \n",
              "146744                  1               3                 0   \n",
              "146745                  2               4                 0   \n",
              "146746                  2               2                 0   \n",
              "146747                  3               3                 0   \n",
              "146748                  4               2                 0   \n",
              "146749                  3               2                 0   \n",
              "146750                  2               3                 0   \n",
              "146751                  2               2                 0   \n",
              "146752                  2               4                 0   \n",
              "146753                  2               3                 0   \n",
              "146754                  3               2                 0   \n",
              "146755                  3               4                 0   \n",
              "146756                  4               2                 0   \n",
              "146757                  4               2                 0   \n",
              "146758                  2               2                 0   \n",
              "146759                  3               2                 0   \n",
              "146760                  3               2                 0   \n",
              "146761                  4               3                 0   \n",
              "146762                  1               5                 0   \n",
              "146763                  7               2                 2   \n",
              "146764                  4               2                 0   \n",
              "\n",
              "        resort_region_code  resort_type_code  room_type_booked_code  \\\n",
              "0                        3                 3                      4   \n",
              "1                        1                 1                      4   \n",
              "2                        2                 2                      2   \n",
              "3                        1                 1                      2   \n",
              "4                        1                 2                      3   \n",
              "5                        1                 1                      2   \n",
              "6                        2                 2                      2   \n",
              "7                        1                 5                      4   \n",
              "8                        1                 1                      2   \n",
              "9                        1                 1                      2   \n",
              "10                       1                 5                      2   \n",
              "11                       1                 1                      3   \n",
              "12                       3                 3                      3   \n",
              "13                       1                 2                      3   \n",
              "14                       2                 1                      4   \n",
              "15                       2                 2                      4   \n",
              "16                       2                 1                      4   \n",
              "17                       2                 2                      1   \n",
              "18                       1                 1                      2   \n",
              "19                       1                 5                      4   \n",
              "20                       2                 7                      4   \n",
              "21                       2                 2                      3   \n",
              "22                       2                 2                      4   \n",
              "23                       1                 1                      3   \n",
              "24                       2                 4                      3   \n",
              "25                       1                 1                      3   \n",
              "26                       3                 3                      1   \n",
              "27                       3                 3                      1   \n",
              "28                       1                 1                      2   \n",
              "29                       1                 1                      2   \n",
              "...                    ...               ...                    ...   \n",
              "146735                   1                 1                      3   \n",
              "146736                   1                 1                      3   \n",
              "146737                   2                 1                      2   \n",
              "146738                   2                 2                      2   \n",
              "146739                   1                 1                      3   \n",
              "146740                   1                 5                      4   \n",
              "146741                   1                 1                      1   \n",
              "146742                   2                 1                      4   \n",
              "146743                   3                 3                      3   \n",
              "146744                   2                 2                      2   \n",
              "146745                   3                 3                      2   \n",
              "146746                   3                 3                      3   \n",
              "146747                   2                 1                      2   \n",
              "146748                   2                 2                      3   \n",
              "146749                   1                 1                      2   \n",
              "146750                   3                 4                      4   \n",
              "146751                   3                 1                      3   \n",
              "146752                   2                 1                      2   \n",
              "146753                   3                 1                      3   \n",
              "146754                   3                 3                      4   \n",
              "146755                   2                 2                      2   \n",
              "146756                   2                 2                      4   \n",
              "146757                   1                 1                      2   \n",
              "146758                   1                 5                      3   \n",
              "146759                   3                 3                      3   \n",
              "146760                   1                 1                      3   \n",
              "146761                   2                 2                      2   \n",
              "146762                   1                 1                      2   \n",
              "146763                   3                 3                      3   \n",
              "146764                   2                 1                      4   \n",
              "\n",
              "        roomnights  season_holidayed_code  state_code_resort  total_pax  \\\n",
              "0                1                    2.0                  3          3   \n",
              "1                8                    2.0                  4          2   \n",
              "2                3                    4.0                  2          3   \n",
              "3                3                    2.0                  6          3   \n",
              "4                8                    2.0                 11          2   \n",
              "5                4                    2.0                  6          3   \n",
              "6                4                    2.0                  2          2   \n",
              "7                1                    3.0                  1          4   \n",
              "8                2                    3.0                  6          4   \n",
              "9                2                    4.0                  6          3   \n",
              "10               3                    2.0                  1          4   \n",
              "11               4                    3.0                  4          3   \n",
              "12               4                    3.0                  3          4   \n",
              "13               2                    4.0                 11          3   \n",
              "14               4                    2.0                  7          1   \n",
              "15               1                    4.0                  2          5   \n",
              "16               5                    4.0                  7          2   \n",
              "17               2                    4.0                  2          3   \n",
              "18               3                    2.0                  6          4   \n",
              "19               1                    2.0                  1          2   \n",
              "20               1                    2.0                  9          2   \n",
              "21               4                    3.0                  2          2   \n",
              "22               2                    3.0                  2          2   \n",
              "23               2                    3.0                  6          2   \n",
              "24               6                    2.0                 10          3   \n",
              "25               3                    4.0                  6          2   \n",
              "26               2                    3.0                  5          4   \n",
              "27               1                    2.0                  5          6   \n",
              "28               3                    4.0                  6          4   \n",
              "29               2                    3.0                  6          3   \n",
              "...            ...                    ...                ...        ...   \n",
              "146735           2                    4.0                  6          4   \n",
              "146736           2                    4.0                  6          4   \n",
              "146737           1                    2.0                  7          5   \n",
              "146738           1                    4.0                  2          3   \n",
              "146739           1                    4.0                  1          2   \n",
              "146740           4                    4.0                  1          2   \n",
              "146741           3                    4.0                  1          5   \n",
              "146742           3                    2.0                  7          2   \n",
              "146743           1                    4.0                  3          2   \n",
              "146744           1                    3.0                  2          3   \n",
              "146745           1                    4.0                  5          5   \n",
              "146746           2                    4.0                  5          2   \n",
              "146747           1                    3.0                  7          3   \n",
              "146748           2                    3.0                  2          3   \n",
              "146749           2                    4.0                  1          2   \n",
              "146750           6                    4.0                  5          2   \n",
              "146751           1                    3.0                  5          2   \n",
              "146752           4                    2.0                  9          6   \n",
              "146753           1                    3.0                  5          3   \n",
              "146754           1                    4.0                  5          2   \n",
              "146755           3                    3.0                  2          4   \n",
              "146756           1                    3.0                  2          2   \n",
              "146757           4                    4.0                  1          2   \n",
              "146758           3                    4.0                  1          2   \n",
              "146759           3                    4.0                  3          2   \n",
              "146760           1                    4.0                  1          2   \n",
              "146761           1                    3.0                  2          4   \n",
              "146762           4                    4.0                  6          3   \n",
              "146763           2                    3.0                  3          4   \n",
              "146764           1                    3.0                  7          2   \n",
              "\n",
              "       member_age_buckets  duration_days  \n",
              "0                       H              1  \n",
              "1                       H              4  \n",
              "2                       H              3  \n",
              "3                       H              3  \n",
              "4                       H              4  \n",
              "5                       H              4  \n",
              "6                       H              4  \n",
              "7                       D              1  \n",
              "8                       D              2  \n",
              "9                       D              2  \n",
              "10                      D              2  \n",
              "11                      D              2  \n",
              "12                      D              4  \n",
              "13                      D              2  \n",
              "14                      F              1  \n",
              "15                      F              1  \n",
              "16                      F              1  \n",
              "17                      F              1  \n",
              "18                      F              3  \n",
              "19                      F              1  \n",
              "20                      F              1  \n",
              "21                      F              1  \n",
              "22                      F              1  \n",
              "23                      F              1  \n",
              "24                      F              3  \n",
              "25                      F              3  \n",
              "26                      F              1  \n",
              "27                      F              1  \n",
              "28                      F              3  \n",
              "29                      F              1  \n",
              "...                   ...            ...  \n",
              "146735                  A              1  \n",
              "146736                  A              1  \n",
              "146737                  H              1  \n",
              "146738                  C              1  \n",
              "146739                  E              1  \n",
              "146740                  B              2  \n",
              "146741                  B              3  \n",
              "146742                  F              1  \n",
              "146743                  B              1  \n",
              "146744                  F              1  \n",
              "146745                  H              1  \n",
              "146746                  F              2  \n",
              "146747                  F              1  \n",
              "146748                  F              1  \n",
              "146749                  A              1  \n",
              "146750                  D              2  \n",
              "146751                  D              1  \n",
              "146752                  G              1  \n",
              "146753                  C              1  \n",
              "146754                  C              1  \n",
              "146755                  E              3  \n",
              "146756                  G              1  \n",
              "146757                  C              4  \n",
              "146758                  A              1  \n",
              "146759                  A              3  \n",
              "146760                  E              1  \n",
              "146761                  B              1  \n",
              "146762                  F              2  \n",
              "146763                  I              1  \n",
              "146764                  B              1  \n",
              "\n",
              "[146765 rows x 14 columns]"
            ]
          },
          "metadata": {
            "tags": []
          },
          "execution_count": 144
        }
      ]
    },
    {
      "cell_type": "markdown",
      "metadata": {
        "id": "0qX8Vn1_ZqHO",
        "colab_type": "text"
      },
      "source": [
        "# TRAIN TEST SPLIT"
      ]
    },
    {
      "cell_type": "code",
      "metadata": {
        "id": "U2poA3D_HnA6",
        "colab_type": "code",
        "colab": {}
      },
      "source": [
        "\n",
        "X=train.loc[:,'reservation_id':'duration_days']\n",
        "y=train.loc[:,'amount_spent_per_room_night_scaled']\n",
        "from sklearn.model_selection import train_test_split\n",
        "\n",
        "\n",
        "X_train,X_test,y_train,y_test=train_test_split(X,y,test_size=0.3,random_state=25)\n"
      ],
      "execution_count": 0,
      "outputs": []
    },
    {
      "cell_type": "code",
      "metadata": {
        "id": "Vb1APiZ7HmfZ",
        "colab_type": "code",
        "colab": {}
      },
      "source": [
        ""
      ],
      "execution_count": 0,
      "outputs": []
    },
    {
      "cell_type": "code",
      "metadata": {
        "id": "Ve5OYNssCLC6",
        "colab_type": "code",
        "colab": {
          "base_uri": "https://localhost:8080/",
          "height": 55
        },
        "outputId": "4891d229-049e-46e0-e387-f3c35cac498a"
      },
      "source": [
        "'''X,y=dftrain.drop('amount_spent_per_room_night_scaled',axis=1),dftrain['amount_spent_per_room_night_scaled']\n",
        "from sklearn.model_selection import train_test_split\n",
        "from sklearn.metrics import accuracy_score,f1_score\n",
        "X_train,X_val,y_train,y_val = train_test_split(X,y,test_size=0.3,random_state = 10)'''"
      ],
      "execution_count": 147,
      "outputs": [
        {
          "output_type": "execute_result",
          "data": {
            "text/plain": [
              "\"X,y=dftrain.drop('amount_spent_per_room_night_scaled',axis=1),dftrain['amount_spent_per_room_night_scaled']\\nfrom sklearn.model_selection import train_test_split\\nfrom sklearn.metrics import accuracy_score,f1_score\\nX_train,X_val,y_train,y_val = train_test_split(X,y,test_size=0.3,random_state = 10)\""
            ]
          },
          "metadata": {
            "tags": []
          },
          "execution_count": 147
        }
      ]
    },
    {
      "cell_type": "code",
      "metadata": {
        "id": "9rSpClTbDED_",
        "colab_type": "code",
        "outputId": "16b758fa-e82d-4d71-ff1c-edfb69ee30be",
        "colab": {
          "base_uri": "https://localhost:8080/",
          "height": 35
        }
      },
      "source": [
        "#categorical features\n",
        "categorical_features_indices = np.where(X_train.dtypes =='object')[0]\n",
        "categorical_features_indices"
      ],
      "execution_count": 148,
      "outputs": [
        {
          "output_type": "execute_result",
          "data": {
            "text/plain": [
              "array([ 0, 12])"
            ]
          },
          "metadata": {
            "tags": []
          },
          "execution_count": 148
        }
      ]
    },
    {
      "cell_type": "code",
      "metadata": {
        "id": "r3LoxYI_DEBE",
        "colab_type": "code",
        "colab": {}
      },
      "source": [
        "pip install catboost"
      ],
      "execution_count": 0,
      "outputs": []
    },
    {
      "cell_type": "code",
      "metadata": {
        "id": "rBs2YnPHDD-_",
        "colab_type": "code",
        "colab": {}
      },
      "source": [
        "from catboost import CatBoostRegressor\n"
      ],
      "execution_count": 0,
      "outputs": []
    },
    {
      "cell_type": "code",
      "metadata": {
        "id": "gh-snkQKDnkr",
        "colab_type": "code",
        "colab": {}
      },
      "source": [
        "m = CatBoostRegressor(n_estimators=1000,\n",
        "                          learning_rate=1,eval_metric='RMSE',cat_features=categorical_features_indices,\n",
        "                          depth=2,random_state=10)"
      ],
      "execution_count": 0,
      "outputs": []
    },
    {
      "cell_type": "code",
      "metadata": {
        "id": "BatfZsGDBTOH",
        "colab_type": "code",
        "colab": {}
      },
      "source": [
        ""
      ],
      "execution_count": 0,
      "outputs": []
    },
    {
      "cell_type": "code",
      "metadata": {
        "id": "pIVXYCA-Dnh5",
        "colab_type": "code",
        "outputId": "81e277d5-7209-41fa-dc28-d49d4148da12",
        "colab": {
          "base_uri": "https://localhost:8080/",
          "height": 195
        }
      },
      "source": [
        "m.fit(X_train,y_train,eval_set=[(X_train,y_train),(X_test, y_test)], early_stopping_rounds=100,verbose=100)\n"
      ],
      "execution_count": 151,
      "outputs": [
        {
          "output_type": "stream",
          "text": [
            "0:\tlearn: 1.0903987\ttest: 1.0903888\ttest1: 1.0852033\tbest: 1.0852033 (0)\ttotal: 211ms\tremaining: 3m 30s\n",
            "100:\tlearn: 0.9987881\ttest: 0.9987973\ttest1: 0.9965844\tbest: 0.9965844 (100)\ttotal: 10.4s\tremaining: 1m 32s\n",
            "200:\tlearn: 0.9969231\ttest: 0.9969908\ttest1: 0.9962017\tbest: 0.9961330 (178)\ttotal: 19.8s\tremaining: 1m 18s\n",
            "Stopped by overfitting detector  (100 iterations wait)\n",
            "\n",
            "bestTest = 0.9961329696\n",
            "bestIteration = 178\n",
            "\n",
            "Shrink model to first 179 iterations.\n"
          ],
          "name": "stdout"
        },
        {
          "output_type": "execute_result",
          "data": {
            "text/plain": [
              "<catboost.core.CatBoostRegressor at 0x7f699a87f898>"
            ]
          },
          "metadata": {
            "tags": []
          },
          "execution_count": 151
        }
      ]
    },
    {
      "cell_type": "code",
      "metadata": {
        "id": "v9lxX9HcDnfr",
        "colab_type": "code",
        "outputId": "11597499-4369-46c8-c7c4-34d8d2bb7e73",
        "colab": {
          "base_uri": "https://localhost:8080/",
          "height": 52
        }
      },
      "source": [
        "from sklearn.metrics import classification_report\n",
        "p2=m.predict(X_test)\n",
        "p2\n"
      ],
      "execution_count": 152,
      "outputs": [
        {
          "output_type": "execute_result",
          "data": {
            "text/plain": [
              "array([7.77993536, 7.25641813, 7.70677844, ..., 7.37204251, 6.99898233,\n",
              "       7.95389457])"
            ]
          },
          "metadata": {
            "tags": []
          },
          "execution_count": 152
        }
      ]
    },
    {
      "cell_type": "markdown",
      "metadata": {
        "id": "mpQYcHG8ah5z",
        "colab_type": "text"
      },
      "source": [
        "# TEST"
      ]
    },
    {
      "cell_type": "code",
      "metadata": {
        "id": "bDjISZZ_ONPx",
        "colab_type": "code",
        "colab": {}
      },
      "source": [
        ""
      ],
      "execution_count": 0,
      "outputs": []
    },
    {
      "cell_type": "code",
      "metadata": {
        "id": "F5RULAmzONNp",
        "colab_type": "code",
        "colab": {}
      },
      "source": [
        "test1=test.loc[:,'reservation_id':'duration_days']"
      ],
      "execution_count": 0,
      "outputs": []
    },
    {
      "cell_type": "markdown",
      "metadata": {
        "id": "veFlPcOwawXb",
        "colab_type": "text"
      },
      "source": [
        "# PREDICT TEST VALUES"
      ]
    },
    {
      "cell_type": "code",
      "metadata": {
        "id": "DoNLAVGIONKk",
        "colab_type": "code",
        "outputId": "d071ffbb-de5d-4cf9-9a41-304d3fe73080",
        "colab": {
          "base_uri": "https://localhost:8080/",
          "height": 52
        }
      },
      "source": [
        "p2=m.predict(test1)\n",
        "p2\n"
      ],
      "execution_count": 154,
      "outputs": [
        {
          "output_type": "execute_result",
          "data": {
            "text/plain": [
              "array([7.90032239, 7.27431345, 7.45669068, ..., 8.15537689, 8.0035033 ,\n",
              "       7.42981793])"
            ]
          },
          "metadata": {
            "tags": []
          },
          "execution_count": 154
        }
      ]
    },
    {
      "cell_type": "markdown",
      "metadata": {
        "id": "B3N0v_hTa01F",
        "colab_type": "text"
      },
      "source": [
        "# CONVERT TO INTEGER FROM FLOAT TYPE"
      ]
    },
    {
      "cell_type": "code",
      "metadata": {
        "id": "byzQPvd0PKz3",
        "colab_type": "code",
        "outputId": "a9dd35a1-e27b-42cd-bfd7-c0faef5f8f87",
        "colab": {
          "base_uri": "https://localhost:8080/",
          "height": 35
        }
      },
      "source": [
        "y=p2.astype(int)\n",
        "y"
      ],
      "execution_count": 155,
      "outputs": [
        {
          "output_type": "execute_result",
          "data": {
            "text/plain": [
              "array([7, 7, 7, ..., 8, 8, 7])"
            ]
          },
          "metadata": {
            "tags": []
          },
          "execution_count": 155
        }
      ]
    },
    {
      "cell_type": "code",
      "metadata": {
        "id": "R82V84o_PKxk",
        "colab_type": "code",
        "colab": {}
      },
      "source": [
        "#s=pd.DataFrame({'reservation_id':test['reservation_id'],'amount_spent_per_room_night_scaled':p2})\n",
        "s=pd.DataFrame({'reservation_id':test['reservation_id'],'amount_spent_per_room_night_scaled':y})\n",
        "s.head()\n",
        "s.to_csv('/gdrive/My Drive/Colab Notebooks/hack82.csv',index=False)"
      ],
      "execution_count": 0,
      "outputs": []
    },
    {
      "cell_type": "code",
      "metadata": {
        "id": "Nwi8_CGmPKtp",
        "colab_type": "code",
        "colab": {}
      },
      "source": [
        ""
      ],
      "execution_count": 0,
      "outputs": []
    },
    {
      "cell_type": "code",
      "metadata": {
        "id": "4MydD2wfzreD",
        "colab_type": "code",
        "outputId": "9e182991-3bc7-45a3-a00f-067235a085fa",
        "colab": {
          "base_uri": "https://localhost:8080/",
          "height": 35
        }
      },
      "source": [
        "y_train.mean()"
      ],
      "execution_count": 157,
      "outputs": [
        {
          "output_type": "execute_result",
          "data": {
            "text/plain": [
              "7.719992732084952"
            ]
          },
          "metadata": {
            "tags": []
          },
          "execution_count": 157
        }
      ]
    },
    {
      "cell_type": "code",
      "metadata": {
        "id": "DKrvCVq2ER65",
        "colab_type": "code",
        "outputId": "82be847a-af4b-4ba8-b3dd-dd63c9a0fd5c",
        "colab": {
          "base_uri": "https://localhost:8080/",
          "height": 88
        }
      },
      "source": [
        "from sklearn import metrics\n",
        "from sklearn.metrics import mean_squared_error\n",
        "print(\"Model Evaluation Stage\")\n",
        "print(m.get_params())\n",
        "print('RMSE:', np.sqrt(metrics.mean_squared_error(y_test, m.predict(X_test))))\n",
        "print('RMSLE', np.sqrt(np.mean((np.log(1+m.predict(X_test)) - np.log(1+y_test))**2)))\n",
        "error= np.sqrt(np.mean((np.log(1+m.predict(X_test)) - np.log(1+y_test))**2))"
      ],
      "execution_count": 158,
      "outputs": [
        {
          "output_type": "stream",
          "text": [
            "Model Evaluation Stage\n",
            "{'cat_features': array([ 0, 12]), 'random_state': 10, 'n_estimators': 1000, 'eval_metric': 'RMSE', 'loss_function': 'RMSE', 'depth': 2, 'learning_rate': 1}\n",
            "RMSE: 0.9961329686125953\n",
            "RMSLE 0.12818591389652126\n"
          ],
          "name": "stdout"
        }
      ]
    },
    {
      "cell_type": "code",
      "metadata": {
        "id": "Jzv_hoqaER37",
        "colab_type": "code",
        "outputId": "019fd49d-3eb4-495a-c592-00338d2d7a5f",
        "colab": {
          "base_uri": "https://localhost:8080/",
          "height": 266
        }
      },
      "source": [
        "sorted(zip(m.feature_importances_,X_train),reverse=True)"
      ],
      "execution_count": 159,
      "outputs": [
        {
          "output_type": "execute_result",
          "data": {
            "text/plain": [
              "[(35.03788169700671, 'duration_days'),\n",
              " (16.548929102013535, 'numberofadults'),\n",
              " (12.226219794176398, 'total_pax'),\n",
              " (10.599381016157327, 'roomnights'),\n",
              " (10.43021432648903, 'state_code_resort'),\n",
              " (4.594784582565779, 'main_product_code'),\n",
              " (2.3224585188171463, 'season_holidayed_code'),\n",
              " (2.2672102948208646, 'resort_type_code'),\n",
              " (1.5397947797905267, 'channel_code'),\n",
              " (1.4749089156600947, 'resort_region_code'),\n",
              " (1.4611608140146983, 'room_type_booked_code'),\n",
              " (1.0465011803820228, 'numberofchildren'),\n",
              " (0.45055497810587725, 'member_age_buckets'),\n",
              " (0.0, 'reservation_id')]"
            ]
          },
          "metadata": {
            "tags": []
          },
          "execution_count": 159
        }
      ]
    },
    {
      "cell_type": "code",
      "metadata": {
        "id": "EfT6qixc2ifa",
        "colab_type": "code",
        "colab": {}
      },
      "source": [
        "#removing loan_default column from dftest\n",
        "#dftest.drop('amount_spent_per_room_night_scaled',axis=1,inplace=True)"
      ],
      "execution_count": 0,
      "outputs": []
    }
  ]
}